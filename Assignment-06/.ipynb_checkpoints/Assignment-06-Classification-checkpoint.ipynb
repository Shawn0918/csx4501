{
 "cells": [
  {
   "cell_type": "markdown",
   "id": "874c2305",
   "metadata": {},
   "source": [
    "# Assignment-06: Classification"
   ]
  },
  {
   "cell_type": "markdown",
   "id": "70d46fb5",
   "metadata": {},
   "source": [
    "***"
   ]
  },
  {
   "cell_type": "code",
   "execution_count": 27,
   "id": "9c73b174",
   "metadata": {},
   "outputs": [],
   "source": [
    "import matplotlib.pyplot as plt\n",
    "import ipywidgets\n",
    "import numpy as np\n",
    "\n",
    "import sklearn.cluster\n",
    "import sklearn.linear_model\n",
    "import sklearn.datasets\n",
    "import sklearn.preprocessing\n",
    "import sklearn.model_selection\n",
    "import sklearn.metrics\n",
    "import sklearn.neighbors"
   ]
  },
  {
   "cell_type": "code",
   "execution_count": 28,
   "id": "4d689a11",
   "metadata": {},
   "outputs": [],
   "source": [
    "wine = sklearn.datasets.load_wine()"
   ]
  },
  {
   "cell_type": "code",
   "execution_count": 29,
   "id": "c4bf6b96",
   "metadata": {},
   "outputs": [
    {
     "name": "stdout",
     "output_type": "stream",
     "text": [
      ".. _wine_dataset:\n",
      "\n",
      "Wine recognition dataset\n",
      "------------------------\n",
      "\n",
      "**Data Set Characteristics:**\n",
      "\n",
      "    :Number of Instances: 178 (50 in each of three classes)\n",
      "    :Number of Attributes: 13 numeric, predictive attributes and the class\n",
      "    :Attribute Information:\n",
      " \t\t- Alcohol\n",
      " \t\t- Malic acid\n",
      " \t\t- Ash\n",
      "\t\t- Alcalinity of ash  \n",
      " \t\t- Magnesium\n",
      "\t\t- Total phenols\n",
      " \t\t- Flavanoids\n",
      " \t\t- Nonflavanoid phenols\n",
      " \t\t- Proanthocyanins\n",
      "\t\t- Color intensity\n",
      " \t\t- Hue\n",
      " \t\t- OD280/OD315 of diluted wines\n",
      " \t\t- Proline\n",
      "\n",
      "    - class:\n",
      "            - class_0\n",
      "            - class_1\n",
      "            - class_2\n",
      "\t\t\n",
      "    :Summary Statistics:\n",
      "    \n",
      "    ============================= ==== ===== ======= =====\n",
      "                                   Min   Max   Mean     SD\n",
      "    ============================= ==== ===== ======= =====\n",
      "    Alcohol:                      11.0  14.8    13.0   0.8\n",
      "    Malic Acid:                   0.74  5.80    2.34  1.12\n",
      "    Ash:                          1.36  3.23    2.36  0.27\n",
      "    Alcalinity of Ash:            10.6  30.0    19.5   3.3\n",
      "    Magnesium:                    70.0 162.0    99.7  14.3\n",
      "    Total Phenols:                0.98  3.88    2.29  0.63\n",
      "    Flavanoids:                   0.34  5.08    2.03  1.00\n",
      "    Nonflavanoid Phenols:         0.13  0.66    0.36  0.12\n",
      "    Proanthocyanins:              0.41  3.58    1.59  0.57\n",
      "    Colour Intensity:              1.3  13.0     5.1   2.3\n",
      "    Hue:                          0.48  1.71    0.96  0.23\n",
      "    OD280/OD315 of diluted wines: 1.27  4.00    2.61  0.71\n",
      "    Proline:                       278  1680     746   315\n",
      "    ============================= ==== ===== ======= =====\n",
      "\n",
      "    :Missing Attribute Values: None\n",
      "    :Class Distribution: class_0 (59), class_1 (71), class_2 (48)\n",
      "    :Creator: R.A. Fisher\n",
      "    :Donor: Michael Marshall (MARSHALL%PLU@io.arc.nasa.gov)\n",
      "    :Date: July, 1988\n",
      "\n",
      "This is a copy of UCI ML Wine recognition datasets.\n",
      "https://archive.ics.uci.edu/ml/machine-learning-databases/wine/wine.data\n",
      "\n",
      "The data is the results of a chemical analysis of wines grown in the same\n",
      "region in Italy by three different cultivators. There are thirteen different\n",
      "measurements taken for different constituents found in the three types of\n",
      "wine.\n",
      "\n",
      "Original Owners: \n",
      "\n",
      "Forina, M. et al, PARVUS - \n",
      "An Extendible Package for Data Exploration, Classification and Correlation. \n",
      "Institute of Pharmaceutical and Food Analysis and Technologies,\n",
      "Via Brigata Salerno, 16147 Genoa, Italy.\n",
      "\n",
      "Citation:\n",
      "\n",
      "Lichman, M. (2013). UCI Machine Learning Repository\n",
      "[https://archive.ics.uci.edu/ml]. Irvine, CA: University of California,\n",
      "School of Information and Computer Science. \n",
      "\n",
      ".. topic:: References\n",
      "\n",
      "  (1) S. Aeberhard, D. Coomans and O. de Vel, \n",
      "  Comparison of Classifiers in High Dimensional Settings, \n",
      "  Tech. Rep. no. 92-02, (1992), Dept. of Computer Science and Dept. of  \n",
      "  Mathematics and Statistics, James Cook University of North Queensland. \n",
      "  (Also submitted to Technometrics). \n",
      "\n",
      "  The data was used with many others for comparing various \n",
      "  classifiers. The classes are separable, though only RDA \n",
      "  has achieved 100% correct classification. \n",
      "  (RDA : 100%, QDA 99.4%, LDA 98.9%, 1NN 96.1% (z-transformed data)) \n",
      "  (All results using the leave-one-out technique) \n",
      "\n",
      "  (2) S. Aeberhard, D. Coomans and O. de Vel, \n",
      "  \"THE CLASSIFICATION PERFORMANCE OF RDA\" \n",
      "  Tech. Rep. no. 92-01, (1992), Dept. of Computer Science and Dept. of \n",
      "  Mathematics and Statistics, James Cook University of North Queensland. \n",
      "  (Also submitted to Journal of Chemometrics).\n",
      "\n"
     ]
    }
   ],
   "source": [
    "print(wine.DESCR)"
   ]
  },
  {
   "cell_type": "code",
   "execution_count": 30,
   "id": "79126fdb",
   "metadata": {},
   "outputs": [],
   "source": [
    "x = wine.data\n",
    "y = wine.target"
   ]
  },
  {
   "cell_type": "code",
   "execution_count": 31,
   "id": "0f6138a6",
   "metadata": {},
   "outputs": [],
   "source": [
    "x = sklearn.preprocessing.StandardScaler().fit_transform(x)"
   ]
  },
  {
   "cell_type": "code",
   "execution_count": 32,
   "id": "5723c309",
   "metadata": {},
   "outputs": [
    {
     "data": {
      "image/png": "[encoded data removed]",
      "text/plain": [
       "<Figure size 432x288 with 1 Axes>"
      ]
     },
     "metadata": {
      "needs_background": "light"
     },
     "output_type": "display_data"
    }
   ],
   "source": [
    "i = 9   # to plot the 9th feature\n",
    "plt.hist(x[(y==0),i], alpha=0.5, color='green', label='class_0')\n",
    "plt.hist(x[(y==1),i], alpha=0.5, color='blue', label='class_1')\n",
    "plt.hist(x[(y==2),i], alpha=0.5, color='red', label='class_2')\n",
    "plt.legend()\n",
    "plt.show()"
   ]
  },
  {
   "cell_type": "code",
   "execution_count": 33,
   "id": "c36939e4",
   "metadata": {},
   "outputs": [
    {
     "data": {
      "application/vnd.jupyter.widget-view+json": {
       "model_id": "972d1d3bc160414bb090d1c80ce7e67c",
       "version_major": 2,
       "version_minor": 0
      },
      "text/plain": [
       "interactive(children=(IntSlider(value=6, description='n', max=12), Output()), _dom_classes=('widget-interact',…"
      ]
     },
     "metadata": {},
     "output_type": "display_data"
    },
    {
     "data": {
      "text/plain": [
       "<function __main__.plotblobs(n)>"
      ]
     },
     "execution_count": 33,
     "metadata": {},
     "output_type": "execute_result"
    }
   ],
   "source": [
    "def plotblobs(n):\n",
    "    plt.hist(x[(y==0),n], alpha=0.5, color='green', label='class_0')\n",
    "    plt.hist(x[(y==1),n], alpha=0.5, color='blue', label='class_1')\n",
    "    plt.hist(x[(y==2),n], alpha=0.5, color='red', label='class_2')\n",
    "    plt.legend()\n",
    "    plt.show()\n",
    "    \n",
    "ipywidgets.interact(plotblobs,n=(0,12))"
   ]
  },
  {
   "cell_type": "markdown",
   "id": "48d7b42f",
   "metadata": {},
   "source": [
    "Having compared the classification with each feature, I found the classification with the first feature is comparatively more reasonable, for the three classes have small overlapping area and the values are relatively concentrated with respect to each class. "
   ]
  },
  {
   "cell_type": "code",
   "execution_count": 34,
   "id": "231e2828",
   "metadata": {},
   "outputs": [],
   "source": [
    "model = sklearn.linear_model.LogisticRegression()"
   ]
  },
  {
   "cell_type": "code",
   "execution_count": 35,
   "id": "4cad7b25",
   "metadata": {},
   "outputs": [
    {
     "data": {
      "text/plain": [
       "LogisticRegression()"
      ]
     },
     "execution_count": 35,
     "metadata": {},
     "output_type": "execute_result"
    }
   ],
   "source": [
    "x_train, x_test, y_train, y_test = sklearn.model_selection.train_test_split(\n",
    "    x[:,0:1], y, test_size=0.2, random_state=42)\n",
    "\n",
    "model.fit(x_train,y_train)\n"
   ]
  },
  {
   "cell_type": "code",
   "execution_count": 36,
   "id": "bba4e3d8",
   "metadata": {},
   "outputs": [],
   "source": [
    "y_pred = model.predict(x_test)"
   ]
  },
  {
   "cell_type": "code",
   "execution_count": 37,
   "id": "edb0d298",
   "metadata": {},
   "outputs": [
    {
     "name": "stdout",
     "output_type": "stream",
     "text": [
      "[[14  0  0]\n",
      " [ 0 13  1]\n",
      " [ 5  1  2]]\n"
     ]
    }
   ],
   "source": [
    "cm = sklearn.metrics.confusion_matrix(y_test, y_pred)\n",
    "print(cm)"
   ]
  },
  {
   "cell_type": "code",
   "execution_count": 38,
   "id": "86a57b82",
   "metadata": {},
   "outputs": [
    {
     "name": "stdout",
     "output_type": "stream",
     "text": [
      "Accuracy: 80.56%\n",
      "Precision: 80.56%\n",
      "Recall: 80.56%\n"
     ]
    }
   ],
   "source": [
    "print(f\"Accuracy: {sklearn.metrics.accuracy_score(y_test, y_pred):.2%}\")\n",
    "print(f\"Precision: {sklearn.metrics.precision_score(y_test, y_pred, average='micro'):.2%}\")\n",
    "print(f\"Recall: {sklearn.metrics.recall_score(y_test, y_pred, average='micro'):.2%}\")"
   ]
  },
  {
   "cell_type": "code",
   "execution_count": 39,
   "id": "050b41a3",
   "metadata": {},
   "outputs": [
    {
     "data": {
      "text/plain": [
       "LogisticRegression()"
      ]
     },
     "execution_count": 39,
     "metadata": {},
     "output_type": "execute_result"
    }
   ],
   "source": [
    "model2 = sklearn.linear_model.LogisticRegression()\n",
    "x_train2, x_test2, y_train2, y_test2 = sklearn.model_selection.train_test_split(\n",
    "    x, y, test_size=0.2, random_state=42)\n",
    "\n",
    "model2.fit(x_train2,y_train2)"
   ]
  },
  {
   "cell_type": "code",
   "execution_count": 40,
   "id": "93a9f8c5",
   "metadata": {},
   "outputs": [],
   "source": [
    "y_pred2 = model2.predict(x_test2)"
   ]
  },
  {
   "cell_type": "code",
   "execution_count": 41,
   "id": "42869e7c",
   "metadata": {},
   "outputs": [
    {
     "name": "stdout",
     "output_type": "stream",
     "text": [
      "[[14  0  0]\n",
      " [ 0 14  0]\n",
      " [ 0  0  8]]\n",
      "Accuracy: 100.00%\n",
      "Precision: 100.00%\n",
      "Recall: 100.00%\n"
     ]
    }
   ],
   "source": [
    "cm2 = sklearn.metrics.confusion_matrix(y_test2, y_pred2)\n",
    "print(cm2)\n",
    "print(f\"Accuracy: {sklearn.metrics.accuracy_score(y_test2, y_pred2):.2%}\")\n",
    "print(f\"Precision: {sklearn.metrics.precision_score(y_test2, y_pred2, average='micro'):.2%}\")\n",
    "print(f\"Recall: {sklearn.metrics.recall_score(y_test2, y_pred2, average='micro'):.2%}\")"
   ]
  },
  {
   "cell_type": "markdown",
   "id": "92f1fda1",
   "metadata": {},
   "source": [
    "The scores for accuracy, precision, and recall of the model fit by 13 features are higher than the model fit by just one feature. Besides, the confusion matrix of the second model indicates that all values are properly classified, while the confusion matrix of the first model indicates that several values are classified into wrong classes. "
   ]
  },
  {
   "cell_type": "markdown",
   "id": "344fcf5e",
   "metadata": {},
   "source": [
    "*** \n",
    "## Optional Questions"
   ]
  },
  {
   "cell_type": "markdown",
   "id": "5e801ec1",
   "metadata": {},
   "source": [
    "### 1. Above 90 Accuracy"
   ]
  },
  {
   "cell_type": "code",
   "execution_count": 42,
   "id": "174fddef",
   "metadata": {},
   "outputs": [],
   "source": [
    "from itertools import combinations"
   ]
  },
  {
   "cell_type": "code",
   "execution_count": 43,
   "id": "3b14b993",
   "metadata": {},
   "outputs": [],
   "source": [
    "#use itertools to form the pairs within 13 columns\n",
    "\n",
    "pairs = []                              \n",
    "for i in combinations(range(1,13),2):\n",
    "    pairs.append(list(i))"
   ]
  },
  {
   "cell_type": "code",
   "execution_count": 44,
   "id": "759b9fb8",
   "metadata": {},
   "outputs": [
    {
     "data": {
      "text/plain": [
       "array([[ 1.51861254e+00, -1.16959318e+00],\n",
       "       [ 2.46289627e-01, -2.49084714e+00],\n",
       "       [ 1.96879028e-01, -2.68738198e-01],\n",
       "       [ 1.69154964e+00, -8.09251184e-01],\n",
       "       [ 2.95700226e-01,  4.51945783e-01],\n",
       "       [ 1.48155459e+00, -1.28970717e+00],\n",
       "       [ 1.71625494e+00, -1.46987817e+00],\n",
       "       [ 1.30861750e+00, -5.69023190e-01],\n",
       "       [ 2.25977152e+00, -1.65004916e+00],\n",
       "       [ 1.06156450e+00, -1.04947918e+00],\n",
       "       [ 1.35802810e+00, -4.48909194e-01],\n",
       "       [ 1.38273339e+00, -8.09251184e-01],\n",
       "       [ 9.25685358e-01, -1.04947918e+00],\n",
       "       [ 2.16095032e+00, -2.43079014e+00],\n",
       "       [ 1.70390229e+00, -2.25061915e+00],\n",
       "       [ 7.77453562e-01, -6.89137187e-01],\n",
       "       [ 1.60508109e+00,  1.51660791e-01],\n",
       "       [ 1.02450655e+00,  1.51660791e-01],\n",
       "       [ 1.46920194e+00, -8.99336682e-01],\n",
       "       [ 7.89806212e-01, -1.28970717e+00],\n",
       "       [ 1.30861750e+00, -1.04947918e+00],\n",
       "       [-8.72319135e-02, -2.68738198e-01],\n",
       "       [ 8.76274759e-01, -8.69308183e-01],\n",
       "       [-1.86053111e-01, -5.08966192e-01],\n",
       "       [ 6.16869117e-01,  1.51660791e-01],\n",
       "       [ 6.09998823e-02,  1.65308575e+00],\n",
       "       [ 4.80989970e-01, -1.01945068e+00],\n",
       "       [ 3.69816124e-01, -7.49194186e-01],\n",
       "       [ 1.07391715e+00, -2.85102043e-02],\n",
       "       [ 1.25920690e+00, -1.04947918e+00],\n",
       "       [ 9.00980058e-01,  9.02373272e-01],\n",
       "       [ 7.15690314e-01, -1.18595702e-01],\n",
       "       [ 8.39216810e-01, -6.89137187e-01],\n",
       "       [ 9.38038007e-01,  1.51829490e-03],\n",
       "       [ 6.29221766e-01, -1.48624201e-01],\n",
       "       [ 5.92163817e-01,  3.01803287e-01],\n",
       "       [ 3.45110824e-01, -1.19962167e+00],\n",
       "       [ 6.09998823e-02, -4.48909194e-01],\n",
       "       [ 8.57051816e-02, -1.19962167e+00],\n",
       "       [ 1.50625989e+00, -1.89027716e+00],\n",
       "       [ 6.90985014e-01, -9.89422180e-01],\n",
       "       [ 5.05695270e-01, -2.08681200e-01],\n",
       "       [ 1.08626980e+00, -1.34976417e+00],\n",
       "       [ 2.95700226e-01, -5.99051690e-01],\n",
       "       [ 6.09998823e-02, -7.49194186e-01],\n",
       "       [ 1.49390724e+00, -1.78652700e-01],\n",
       "       [ 1.70390229e+00, -1.04947918e+00],\n",
       "       [ 1.11097510e+00, -1.04947918e+00],\n",
       "       [ 1.35802810e+00, -2.08681200e-01],\n",
       "       [ 1.16038570e+00, -6.29080189e-01],\n",
       "       [ 6.09998823e-02, -2.13050515e+00],\n",
       "       [ 1.02450655e+00, -6.89137187e-01],\n",
       "       [ 1.01215391e+00, -1.65004916e+00],\n",
       "       [ 9.50390657e-01, -7.19165687e-01],\n",
       "       [ 9.13332708e-01, -9.29365181e-01],\n",
       "       [ 6.90985014e-01,  3.01803287e-01],\n",
       "       [ 1.50625989e+00, -9.59393680e-01],\n",
       "       [ 3.57463474e-01, -8.09251184e-01],\n",
       "       [ 8.88627409e-01, -8.39279684e-01],\n",
       "       [-7.78980294e-01, -2.67101814e+00],\n",
       "       [-8.28390893e-01, -1.04947918e+00],\n",
       "       [-4.45458753e-01, -8.09251184e-01],\n",
       "       [ 8.26864161e-01, -4.48909194e-01],\n",
       "       [-7.78980294e-01, -1.48624201e-01],\n",
       "       [-1.02603329e+00, -1.48624201e-01],\n",
       "       [-7.78980294e-01, -4.18880694e-01],\n",
       "       [ 1.35115780e-01, -1.34976417e+00],\n",
       "       [-7.78980294e-01,  3.15467941e-02],\n",
       "       [ 4.19226722e-01, -7.49194186e-01],\n",
       "       [-9.76622688e-01, -8.09251184e-01],\n",
       "       [-8.77801491e-01,  2.71774788e-01],\n",
       "       [ 1.06156450e+00,  1.65308575e+00],\n",
       "       [ 6.04516467e-01,  1.35280076e+00],\n",
       "       [-1.31160156e-02,  3.15451071e+00],\n",
       "       [-1.28543893e+00,  4.51945783e-01],\n",
       "       [-1.65601842e+00, -1.04947918e+00],\n",
       "       [ 3.62945830e-02, -1.04947918e+00],\n",
       "       [-1.43367073e+00, -4.48909194e-01],\n",
       "       [-8.28390893e-01, -1.40982117e+00],\n",
       "       [-3.71342855e-01,  1.05251577e+00],\n",
       "       [-1.23602833e+00, -1.48624201e-01],\n",
       "       [-3.46637556e-01, -2.08681200e-01],\n",
       "       [-1.13720713e+00,  1.35280076e+00],\n",
       "       [ 6.09998823e-02,  9.02373272e-01],\n",
       "       [-1.43367073e+00, -4.48909194e-01],\n",
       "       [-4.08400804e-01, -4.48909194e-01],\n",
       "       [-1.03838594e+00,  9.92458769e-01],\n",
       "       [-1.66837107e+00,  1.95337074e+00],\n",
       "       [-1.68072372e+00,  6.32116779e-01],\n",
       "       [-1.13720713e+00,  1.23268676e+00],\n",
       "       [-1.13720713e+00, -2.98766697e-01],\n",
       "       [-1.23602833e+00,  7.52230776e-01],\n",
       "       [-3.83695505e-01,  3.61860286e-01],\n",
       "       [-8.77801491e-01, -4.48909194e-01],\n",
       "       [-1.70542902e+00, -4.48909194e-01],\n",
       "       [-6.55453797e-01, -1.48624201e-01],\n",
       "       [-1.47072867e+00,  6.02088279e-01],\n",
       "       [-8.77801491e-01, -1.04947918e+00],\n",
       "       [-7.78980294e-01, -2.98766697e-01],\n",
       "       [-8.77801491e-01, -4.48909194e-01],\n",
       "       [-1.13720713e+00, -5.99051690e-01],\n",
       "       [-4.94869352e-01, -2.98766697e-01],\n",
       "       [-8.16038243e-01,  4.51945783e-01],\n",
       "       [-1.45837602e+00,  1.51829490e-03],\n",
       "       [-6.06043199e-01,  3.01803287e-01],\n",
       "       [-7.17217046e-01,  7.52230776e-01],\n",
       "       [-9.27212090e-01, -1.48624201e-01],\n",
       "       [-3.46637556e-01,  9.02373272e-01],\n",
       "       [-9.64270039e-01, -1.48624201e-01],\n",
       "       [-1.71778167e+00,  1.51660791e-01],\n",
       "       [-1.90307141e+00,  1.51829490e-03],\n",
       "       [-5.93690549e-01,  4.51945783e-01],\n",
       "       [-1.53249192e+00,  1.51660791e-01],\n",
       "       [-1.96483466e+00,  4.51945783e-01],\n",
       "       [-1.13720713e+00,  9.02373272e-01],\n",
       "       [-2.43423535e+00,  6.02088279e-01],\n",
       "       [-1.45837602e+00,  3.91888785e-01],\n",
       "       [-7.17217046e-01,  9.02373272e-01],\n",
       "       [-2.84874308e-01, -1.04947918e+00],\n",
       "       [-1.23602833e+00, -1.48624201e-01],\n",
       "       [-1.91542406e+00,  1.51660791e-01],\n",
       "       [-1.77954492e+00,  2.70408323e+00],\n",
       "       [-7.17217046e-01,  2.10351324e+00],\n",
       "       [ 6.09998823e-02,  6.02088279e-01],\n",
       "       [-1.39661278e+00,  4.51945783e-01],\n",
       "       [-1.14955978e+00,  4.51945783e-01],\n",
       "       [-7.04864396e-01,  6.02088279e-01],\n",
       "       [-1.49543397e+00,  2.70408323e+00],\n",
       "       [-7.78980294e-01,  1.50294326e+00],\n",
       "       [-1.18661773e+00,  7.52230776e-01],\n",
       "       [-1.73700461e-01, -4.48909194e-01],\n",
       "       [-1.48995162e-01,  1.51660791e-01],\n",
       "       [-2.35463709e-01,  1.35280076e+00],\n",
       "       [-3.71342855e-01,  6.02088279e-01],\n",
       "       [-6.06043199e-01, -5.99051690e-01],\n",
       "       [-4.94869352e-01, -2.98766697e-01],\n",
       "       [-9.27212090e-01,  4.51945783e-01],\n",
       "       [-5.81337900e-01,  1.65308575e+00],\n",
       "       [ 6.04516467e-01,  1.51829490e-03],\n",
       "       [-1.98405760e-01,  1.35280076e+00],\n",
       "       [-8.72319135e-02,  4.51945783e-01],\n",
       "       [ 4.43932021e-01,  1.51660791e-01],\n",
       "       [ 6.41574416e-01,  1.20265826e+00],\n",
       "       [ 7.65100912e-01,  1.51660791e-01],\n",
       "       [-9.27212090e-01, -2.98766697e-01],\n",
       "       [ 1.96879028e-01,  4.51945783e-01],\n",
       "       [ 1.08626980e+00,  1.51660791e-01],\n",
       "       [-1.61347811e-01,  6.02088279e-01],\n",
       "       [ 3.94521423e-01,  6.02088279e-01],\n",
       "       [ 9.80578312e-02,  6.02088279e-01],\n",
       "       [ 6.16869117e-01,  1.35280076e+00],\n",
       "       [-2.60169009e-01,  7.52230776e-01],\n",
       "       [ 1.35115780e-01,  1.80322825e+00],\n",
       "       [ 2.83347576e-01, -2.98766697e-01],\n",
       "       [-5.19574651e-01,  1.51660791e-01],\n",
       "       [ 2.09231678e-01,  7.52230776e-01],\n",
       "       [ 1.03685920e+00,  1.51829490e-03],\n",
       "       [-6.80159097e-01,  2.25365574e+00],\n",
       "       [ 1.65449169e+00,  1.65308575e+00],\n",
       "       [ 5.92163817e-01,  9.02373272e-01],\n",
       "       [-7.91332944e-01,  4.51945783e-01],\n",
       "       [ 8.51569460e-01,  1.51660791e-01],\n",
       "       [-1.86053111e-01,  7.52230776e-01],\n",
       "       [-5.01739646e-02, -2.98766697e-01],\n",
       "       [ 9.62743307e-01,  7.52230776e-01],\n",
       "       [ 9.00980058e-01,  9.02373272e-01],\n",
       "       [ 5.55105868e-01,  1.05251577e+00],\n",
       "       [-2.23111060e-01,  1.51829490e-03],\n",
       "       [ 7.15690314e-01,  1.50294326e+00],\n",
       "       [ 4.93342620e-01,  1.65308575e+00],\n",
       "       [-9.88975338e-01, -1.48624201e-01],\n",
       "       [-2.84874308e-01,  1.51829490e-03],\n",
       "       [ 1.43214399e+00,  1.51660791e-01],\n",
       "       [ 8.76274759e-01,  3.01803287e-01],\n",
       "       [ 4.93342620e-01,  1.05251577e+00],\n",
       "       [ 3.32758175e-01,  1.51660791e-01],\n",
       "       [ 2.09231678e-01,  1.51660791e-01],\n",
       "       [ 1.39508604e+00,  1.50294326e+00]])"
      ]
     },
     "execution_count": 44,
     "metadata": {},
     "output_type": "execute_result"
    }
   ],
   "source": [
    "np.array([x[:,0],x[:,3]]).T   #use this sentence to get two separate columns from x to form an array. "
   ]
  },
  {
   "cell_type": "code",
   "execution_count": 45,
   "id": "972fc007",
   "metadata": {},
   "outputs": [
    {
     "name": "stdout",
     "output_type": "stream",
     "text": [
      "66\n"
     ]
    }
   ],
   "source": [
    "print(len(pairs))"
   ]
  },
  {
   "cell_type": "code",
   "execution_count": 46,
   "id": "c0a7c044",
   "metadata": {},
   "outputs": [
    {
     "name": "stdout",
     "output_type": "stream",
     "text": [
      "[5, 12]\n",
      "[6, 12]\n",
      "[8, 12]\n",
      "[10, 12]\n",
      "[11, 12]\n"
     ]
    }
   ],
   "source": [
    "for b in range(len(pairs)):\n",
    "    x_train, x_test, y_train, y_test = sklearn.model_selection.train_test_split(\n",
    "        np.array([x[:,pairs[b][0]],x[:,pairs[b][1]]]).T, y, test_size=0.2, random_state=42)\n",
    "    \n",
    "    model_pairs = sklearn.linear_model.LogisticRegression()\n",
    "    model_pairs.fit(x_train,y_train)\n",
    "\n",
    "    y_pred = model_pairs.predict(x_test)\n",
    "    score = sklearn.metrics.accuracy_score(y_test, y_pred)\n",
    "    if score > 0.9:\n",
    "        print(pairs[b])"
   ]
  },
  {
   "cell_type": "markdown",
   "id": "9206947c",
   "metadata": {},
   "source": [
    "Above are several pairs of columns that can give a > 90 accuracy. "
   ]
  },
  {
   "cell_type": "markdown",
   "id": "91bc9e85",
   "metadata": {},
   "source": [
    "### 2. K-nearest Neighbors"
   ]
  },
  {
   "cell_type": "code",
   "execution_count": 47,
   "id": "0305ae32",
   "metadata": {},
   "outputs": [
    {
     "data": {
      "text/plain": [
       "array([[ 1.01300893],\n",
       "       [ 0.96524152],\n",
       "       [ 1.39514818],\n",
       "       [ 2.33457383],\n",
       "       [-0.03787401],\n",
       "       [ 2.23903902],\n",
       "       [ 1.72952002],\n",
       "       [ 1.74544249],\n",
       "       [ 0.94931905],\n",
       "       [ 0.94931905],\n",
       "       [ 2.43010864],\n",
       "       [ 1.69767508],\n",
       "       [ 1.82505483],\n",
       "       [ 1.28369089],\n",
       "       [ 2.54793491],\n",
       "       [ 1.79320989],\n",
       "       [ 1.69767508],\n",
       "       [ 1.22000102],\n",
       "       [ 2.97147258],\n",
       "       [ 0.3124203 ],\n",
       "       [ 0.10542821],\n",
       "       [ 0.07358327],\n",
       "       [ 0.91747411],\n",
       "       [ 0.85378424],\n",
       "       [ 0.3124203 ],\n",
       "       [ 0.2646529 ],\n",
       "       [ 1.42699311],\n",
       "       [ 1.71359755],\n",
       "       [ 0.53533487],\n",
       "       [ 0.91747411],\n",
       "       [ 1.71359755],\n",
       "       [ 2.44603111],\n",
       "       [ 0.7741719 ],\n",
       "       [ 1.55437286],\n",
       "       [ 1.10854374],\n",
       "       [ 0.55125733],\n",
       "       [ 0.42387759],\n",
       "       [ 1.14038868],\n",
       "       [ 0.86970671],\n",
       "       [ 0.04173834],\n",
       "       [ 0.15319562],\n",
       "       [ 0.91747411],\n",
       "       [ 1.10854374],\n",
       "       [-0.21302116],\n",
       "       [ 0.43980005],\n",
       "       [ 1.06077633],\n",
       "       [ 1.01300893],\n",
       "       [ 0.75824943],\n",
       "       [ 0.99708646],\n",
       "       [ 1.63398521],\n",
       "       [ 1.28369089],\n",
       "       [ 1.64990767],\n",
       "       [ 1.41107064],\n",
       "       [ 2.00020199],\n",
       "       [ 0.99708646],\n",
       "       [ 1.18815608],\n",
       "       [ 0.71048202],\n",
       "       [ 1.66583014],\n",
       "       [ 1.71359755],\n",
       "       [-0.72254016],\n",
       "       [-0.21302116],\n",
       "       [-0.94545472],\n",
       "       [-0.37224585],\n",
       "       [-1.04098953],\n",
       "       [-1.24798163],\n",
       "       [-0.21939015],\n",
       "       [-0.77986105],\n",
       "       [-0.7543851 ],\n",
       "       [ 0.0098934 ],\n",
       "       [-0.0920104 ],\n",
       "       [ 0.39203265],\n",
       "       [-1.07283447],\n",
       "       [-0.87539586],\n",
       "       [ 0.75824943],\n",
       "       [ 0.44298455],\n",
       "       [-1.01551358],\n",
       "       [-1.13015536],\n",
       "       [-0.78623004],\n",
       "       [ 0.0098934 ],\n",
       "       [-0.9040563 ],\n",
       "       [-1.49318765],\n",
       "       [-0.10474838],\n",
       "       [-0.37224585],\n",
       "       [-0.73846263],\n",
       "       [-0.72254016],\n",
       "       [-0.94545472],\n",
       "       [-0.8021525 ],\n",
       "       [-0.58879142],\n",
       "       [-0.21302116],\n",
       "       [-0.38816832],\n",
       "       [-0.84991991],\n",
       "       [-0.94545472],\n",
       "       [-0.8021525 ],\n",
       "       [-1.45497372],\n",
       "       [-1.27982657],\n",
       "       [ 0.60539373],\n",
       "       [-0.38816832],\n",
       "       [-1.01551358],\n",
       "       [-0.27671104],\n",
       "       [-1.08557245],\n",
       "       [-0.11748635],\n",
       "       [-0.58879142],\n",
       "       [-0.98366865],\n",
       "       [-1.056912  ],\n",
       "       [-0.23849711],\n",
       "       [-1.37536138],\n",
       "       [-0.7543851 ],\n",
       "       [-0.82444396],\n",
       "       [-1.38491486],\n",
       "       [-0.21302116],\n",
       "       [-0.58879142],\n",
       "       [-1.34351644],\n",
       "       [-0.44548921],\n",
       "       [-0.99640662],\n",
       "       [-1.15244682],\n",
       "       [-1.08238795],\n",
       "       [-0.8021525 ],\n",
       "       [-1.27982657],\n",
       "       [-1.19384523],\n",
       "       [-0.58242244],\n",
       "       [-0.38816832],\n",
       "       [-0.89768732],\n",
       "       [-1.21613669],\n",
       "       [-1.16836928],\n",
       "       [-1.16836928],\n",
       "       [-1.17473827],\n",
       "       [-1.25753511],\n",
       "       [-0.89450282],\n",
       "       [-1.28938005],\n",
       "       [-0.53147054],\n",
       "       [-0.37224585],\n",
       "       [-0.69069522],\n",
       "       [-0.59516041],\n",
       "       [-0.46778066],\n",
       "       [-0.30855597],\n",
       "       [-0.16525376],\n",
       "       [-0.08564141],\n",
       "       [-0.73846263],\n",
       "       [-0.53147054],\n",
       "       [-0.4996256 ],\n",
       "       [-0.46778066],\n",
       "       [ 0.10542821],\n",
       "       [-0.72254016],\n",
       "       [-0.62700535],\n",
       "       [ 0.34426524],\n",
       "       [ 0.2646529 ],\n",
       "       [-1.056912  ],\n",
       "       [-0.38816832],\n",
       "       [-0.30855597],\n",
       "       [-0.62700535],\n",
       "       [-0.78623004],\n",
       "       [-0.84991991],\n",
       "       [-1.02506707],\n",
       "       [-0.22894363],\n",
       "       [-0.34040091],\n",
       "       [-0.06971894],\n",
       "       [-0.84991991],\n",
       "       [ 0.42387759],\n",
       "       [-0.27671104],\n",
       "       [-0.40409079],\n",
       "       [-0.72254016],\n",
       "       [-0.21302116],\n",
       "       [-0.56331547],\n",
       "       [-0.22894363],\n",
       "       [-0.42001326],\n",
       "       [-0.72254016],\n",
       "       [-0.16525376],\n",
       "       [-0.19709869],\n",
       "       [ 0.0098934 ],\n",
       "       [-0.37224585],\n",
       "       [-0.7543851 ],\n",
       "       [-0.88176485],\n",
       "       [-0.27671104],\n",
       "       [-0.02195154],\n",
       "       [ 0.0098934 ],\n",
       "       [ 0.28057537],\n",
       "       [ 0.29649784],\n",
       "       [-0.59516041]])"
      ]
     },
     "execution_count": 47,
     "metadata": {},
     "output_type": "execute_result"
    }
   ],
   "source": [
    "x[:,12:13]"
   ]
  },
  {
   "cell_type": "code",
   "execution_count": 48,
   "id": "cd3c5089",
   "metadata": {},
   "outputs": [],
   "source": [
    "model_neighbor = sklearn.neighbors.KNeighborsRegressor(n_neighbors=1)\n",
    "\n",
    "x_train, x_test, y_train, y_test = sklearn.model_selection.train_test_split(\n",
    "        x[:,12:13],y, test_size=0.2, random_state=42)\n",
    "\n",
    "model_neighbor.fit(x_train,y_train)\n",
    "\n",
    "y_pred = model_neighbor.predict(x_test)"
   ]
  },
  {
   "cell_type": "code",
   "execution_count": 49,
   "id": "eacdfca5",
   "metadata": {},
   "outputs": [
    {
     "name": "stdout",
     "output_type": "stream",
     "text": [
      "[[12  0  2]\n",
      " [ 3  9  2]\n",
      " [ 2  4  2]]\n",
      "Accuracy: 63.89%\n",
      "Precision: 63.89%\n",
      "Recall: 63.89%\n"
     ]
    }
   ],
   "source": [
    "cm_neighbor = sklearn.metrics.confusion_matrix(y_test, y_pred)\n",
    "print(cm_neighbor)\n",
    "print(f\"Accuracy: {sklearn.metrics.accuracy_score(y_test, y_pred):.2%}\")\n",
    "print(f\"Precision: {sklearn.metrics.precision_score(y_test, y_pred, average='micro'):.2%}\")\n",
    "print(f\"Recall: {sklearn.metrics.recall_score(y_test, y_pred, average='micro'):.2%}\")"
   ]
  },
  {
   "cell_type": "markdown",
   "id": "0b4d60d3",
   "metadata": {},
   "source": [
    "### Cross-Validation "
   ]
  },
  {
   "cell_type": "code",
   "execution_count": 50,
   "id": "92da8b72",
   "metadata": {},
   "outputs": [],
   "source": [
    "from sklearn.model_selection import cross_val_score"
   ]
  },
  {
   "cell_type": "code",
   "execution_count": 51,
   "id": "d1c6cd5b",
   "metadata": {},
   "outputs": [
    {
     "data": {
      "image/png": "[encoded data removed]",
      "text/plain": [
       "<Figure size 432x288 with 1 Axes>"
      ]
     },
     "metadata": {
      "needs_background": "light"
     },
     "output_type": "display_data"
    }
   ],
   "source": [
    "x_train, x_test, y_train, y_test = sklearn.model_selection.train_test_split(\n",
    "        x[:,12:13],y, test_size=0.2, random_state=42)\n",
    "\n",
    "k_range = range(1, 20)\n",
    "k_scores = []\n",
    "for k in k_range:\n",
    "    knn = sklearn.neighbors.KNeighborsRegressor(n_neighbors=k)\n",
    "    loss = cross_val_score(knn,\n",
    "                           x_train,\n",
    "                           y_train, \n",
    "                           cv=5, \n",
    "                           scoring='neg_mean_squared_error')\n",
    "    k_scores.append(np.sqrt(-loss).mean())\n",
    "plt.scatter(k_range, k_scores)\n",
    "plt.xlabel('Value of K for KNN')\n",
    "plt.ylabel('Cross-Validated MSE')\n",
    "plt.show()"
   ]
  },
  {
   "cell_type": "code",
   "execution_count": null,
   "id": "0ec812bc",
   "metadata": {},
   "outputs": [],
   "source": []
  }
 ],
 "metadata": {
  "kernelspec": {
   "display_name": "Python 3 (ipykernel)",
   "language": "python",
   "name": "python3"
  },
  "language_info": {
   "codemirror_mode": {
    "name": "ipython",
    "version": 3
   },
   "file_extension": ".py",
   "mimetype": "text/x-python",
   "name": "python",
   "nbconvert_exporter": "python",
   "pygments_lexer": "ipython3",
   "version": "3.9.12"
  }
 },
 "nbformat": 4,
 "nbformat_minor": 5
}
