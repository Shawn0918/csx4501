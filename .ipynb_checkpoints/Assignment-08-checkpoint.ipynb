{
 "cells": [
  {
   "cell_type": "markdown",
   "id": "31a21b2f-ffcc-498b-8e10-71b6ed8f2ad1",
   "metadata": {},
   "source": [
    "# NLP Visualizations of Macbeth and Romeo and Juliet"
   ]
  },
  {
   "cell_type": "markdown",
   "id": "193b2a89-3209-4577-841a-fefc38646b6f",
   "metadata": {},
   "source": [
    "Execute the following cell for important imports."
   ]
  },
  {
   "cell_type": "code",
   "execution_count": 26,
   "id": "3865fca7-0ae1-4bae-a6b8-64fdb69ded40",
   "metadata": {},
   "outputs": [],
   "source": [
    "import requests\n",
    "import matplotlib.pyplot as plt\n",
    "import nltk\n",
    "from nltk.tokenize import word_tokenize\n",
    "from nltk.sentiment import vader\n",
    "from nltk.corpus import stopwords\n",
    "from nltk.corpus import opinion_lexicon\n",
    "from nltk.stem.porter import PorterStemmer"
   ]
  },
  {
   "cell_type": "markdown",
   "id": "c32a0d8c-d509-4a95-9a3c-2268d4d2ea54",
   "metadata": {},
   "source": [
    "Execute the following cell to get the text of \"Macbeth\" and \"Romeo and Juliet\" from [Project Gutenberg](https://www.gutenberg.org/) "
   ]
  },
  {
   "cell_type": "code",
   "execution_count": 2,
   "id": "e5c47602-5ea0-4d58-95f8-964c4de51786",
   "metadata": {},
   "outputs": [],
   "source": [
    "target_url = \"https://www.gutenberg.org/files/1533/1533-0.txt\"\n",
    "response = requests.get(target_url)\n",
    "macbeth_string = response.text\n",
    "macbeth_string = macbeth_string.split('*** START OF THE PROJECT GUTENBERG EBOOK MACBETH ***')[1]\n",
    "macbeth_string = macbeth_string.split('*** END OF THE PROJECT GUTENBERG EBOOK MACBETH ***')[0]\n",
    "macbeth_string = macbeth_string.lower()\n",
    "\n",
    "target_url = \"https://www.gutenberg.org/files/1513/1513-0.txt\"\n",
    "response = requests.get(target_url)\n",
    "r_j_string = response.text\n",
    "r_j_string = r_j_string.split('*** START OF THE PROJECT GUTENBERG EBOOK ROMEO AND JULIET ***')[1]\n",
    "r_j_string = r_j_string.split('*** END OF THE PROJECT GUTENBERG EBOOK ROMEO AND JULIET ***')[0]\n",
    "r_j_scenes = [i.lower() for i in r_j_string.split('SCENE')[1:]]"
   ]
  },
  {
   "cell_type": "markdown",
   "id": "f7f8e864-da7b-415e-b9e9-52488fe06037",
   "metadata": {},
   "source": [
    "You now have the following variables:\n",
    "* `macbeth_string`: this string contains the full text of \"Macbeth\"\n",
    "* `r_j_string`: this string contains the full text of \"Romeo and Juliet\"\n",
    "* `r_j_scenes`: the text from each scene of \"Romeo and Juliet\" is included in this Python list, with one scene per list item"
   ]
  },
  {
   "cell_type": "markdown",
   "id": "22a2f090-2ea3-4161-8989-59fcba76f10c",
   "metadata": {},
   "source": [
    "Make two new variables:\n",
    "* a Python list of stopwords\n",
    "* a variable for using VADER's SentimentIntensityAnalyzer"
   ]
  },
  {
   "cell_type": "code",
   "execution_count": 3,
   "id": "1cfc67ec-6f23-415c-9ffa-d84073534a09",
   "metadata": {},
   "outputs": [],
   "source": [
    "stopw = stopwords.words('english')\n",
    "sia = vader.SentimentIntensityAnalyzer()"
   ]
  },
  {
   "cell_type": "markdown",
   "id": "ab07823c-6968-447e-84fa-67859376b5cd",
   "metadata": {},
   "source": [
    "## Macbeth"
   ]
  },
  {
   "cell_type": "markdown",
   "id": "df298e1f-69af-4496-aaa2-7cbc9a42f31c",
   "metadata": {},
   "source": [
    "Make a list of the words in Macbeth by tokenizing the macbeth_string:"
   ]
  },
  {
   "cell_type": "code",
   "execution_count": 4,
   "id": "dd29e2bb-8981-478c-8d59-389f8223f4f8",
   "metadata": {},
   "outputs": [],
   "source": [
    "macbeth_words = word_tokenize(macbeth_string)"
   ]
  },
  {
   "cell_type": "markdown",
   "id": "904a4113-dd27-436f-bfa9-6595bad1f594",
   "metadata": {},
   "source": [
    "Next, make a list of positive words and a list of negative words using the `polarity_scores` method of VADER's SentimentIntensityAnalyzer.\n",
    "\n",
    "Write a for loop that iterates over your Macbeth word list, and:\n",
    "* if the compound score of a word is positive, add the word to the positive-word list\n",
    "* if the compound score of a word is negative, add the word to the negative-word list"
   ]
  },
  {
   "cell_type": "code",
   "execution_count": 5,
   "id": "b9b9637d-10a2-40f4-a358-cfbfa6202dd0",
   "metadata": {},
   "outputs": [],
   "source": [
    "p_words = []\n",
    "n_words = []\n",
    "for w in macbeth_words:\n",
    "    if sia.polarity_scores(w)['compound'] > 0:\n",
    "        p_words.append(w)\n",
    "    if sia.polarity_scores(w)['compound'] < 0:\n",
    "        n_words.append(w)"
   ]
  },
  {
   "cell_type": "markdown",
   "id": "d0d06112-820c-4960-99de-d1123e47d021",
   "metadata": {},
   "source": [
    "For any list `mylist`, you can get the word frequencies of words in `mylist` using `nltk.FreqDist(mylist)`, and you can get the `n` most common words with `nltk.FreqDist(mylist).most_common(n)`.\n",
    "\n",
    "Use these commands to:\n",
    "1. find the 15 most common negative words in Macbeth and the 15 most common positive words\n",
    "2. make a horizontal bar plot similar to the plots in the following\n",
    "3. comment on similarities and differences to the Macbeth plot below\n",
    "\n",
    "(Plot taken from https://peerchristensen.netlify.app/post/fair-is-foul-and-foul-is-fair-a-tidytext-entiment-analysis-of-shakespeare-s-tragedies/)\n",
    "\n",
    "![Pos-Neg-Words in Shakespeare](https://peerchristensen.netlify.com/post/2018-06-07-fair-is-foul-and-foul-is-fair-a-tidytext-entiment-analysis-of-shakespeare-s-tragedies_files/figure-html/unnamed-chunk-19-1.png)"
   ]
  },
  {
   "cell_type": "code",
   "execution_count": 41,
   "id": "90e13d2a-fe2b-43c1-8a38-252a2e283b7f",
   "metadata": {},
   "outputs": [
    {
     "data": {
      "text/plain": [
       "(0.0, 70.0)"
      ]
     },
     "execution_count": 41,
     "metadata": {},
     "output_type": "execute_result"
    },
    {
     "data": {
      "image/png": "[encoded data removed]",
      "text/plain": [
       "<Figure size 1080x576 with 2 Axes>"
      ]
     },
     "metadata": {
      "needs_background": "light"
     },
     "output_type": "display_data"
    }
   ],
   "source": [
    "# Code:\n",
    "\n",
    "p_15 = nltk.FreqDist(p_words).most_common(15)\n",
    "n_15 = nltk.FreqDist(n_words).most_common(15)\n",
    "fig,ax = plt.subplots(1,2,figsize=(15,8))\n",
    "\n",
    "p_15_words = []\n",
    "n_15_words = []\n",
    "p_15_freq = []\n",
    "n_15_freq = []\n",
    "for i in p_15:\n",
    "    p_15_words.append(i[0])\n",
    "    p_15_freq.append(i[1])\n",
    "for j in n_15:\n",
    "    n_15_words.append(j[0])\n",
    "    n_15_freq.append(j[1])\n",
    "\n",
    "ax[0].barh(p_15_words, p_15_freq, align='center',color='orange')\n",
    "ax[1].barh(n_15_words, n_15_freq, align='center',color='blue')\n",
    "ax[0].invert_yaxis() \n",
    "ax[1].invert_yaxis() \n",
    "ax[0].set_xlim(0,70)\n",
    "ax[1].set_xlim(0,70)"
   ]
  },
  {
   "cell_type": "markdown",
   "id": "2c954e4c",
   "metadata": {},
   "source": [
    "### comments:\n",
    "**Similarities**: the two plots are similar in the distribution shape. If we leave out the negation signal \"no\", the appearing frequency of the two most frequent words of these two sets are approximate. \n",
    "\n",
    "**Differences**: there is no overlapping words between the postive set and the negative set. \n",
    "\n"
   ]
  },
  {
   "cell_type": "markdown",
   "id": "0a595931-82f3-4812-a6e8-498a9a4b9e00",
   "metadata": {},
   "source": [
    "The word list we created from Macbeth did not have the stopwords removed.\n",
    "* Repeat the above analysis, but do so for a list of Macbeth words in which the stopwords have been removed.\n",
    "* What changes?"
   ]
  },
  {
   "cell_type": "code",
   "execution_count": 47,
   "id": "a1ddbb75-9bba-4d60-a00e-44c9d4010a8c",
   "metadata": {},
   "outputs": [
    {
     "data": {
      "text/plain": [
       "(0.0, 70.0)"
      ]
     },
     "execution_count": 47,
     "metadata": {},
     "output_type": "execute_result"
    },
    {
     "data": {
      "image/png": "[encoded data removed]",
      "text/plain": [
       "<Figure size 1080x576 with 2 Axes>"
      ]
     },
     "metadata": {
      "needs_background": "light"
     },
     "output_type": "display_data"
    }
   ],
   "source": [
    "# Code:\n",
    "\n",
    "from string import punctuation\n",
    "myStopWord = stopwords.words('english') + list(punctuation)\n",
    "mac_no_stop = []\n",
    "for n in macbeth_words:\n",
    "    if n not in myStopWord:\n",
    "        mac_no_stop.append(n)\n",
    "\n",
    "p_words = []\n",
    "n_words = []\n",
    "for m in mac_no_stop:\n",
    "    if sia.polarity_scores(m)['compound'] > 0:\n",
    "        p_words.append(m)\n",
    "    if sia.polarity_scores(m)['compound'] < 0:\n",
    "        n_words.append(m)\n",
    "p_15 = nltk.FreqDist(p_words).most_common(15)\n",
    "n_15 = nltk.FreqDist(n_words).most_common(15)\n",
    "\n",
    "fig,ax = plt.subplots(1,2,figsize=(15,8))\n",
    "\n",
    "p_15_words = []\n",
    "n_15_words = []\n",
    "p_15_freq = []\n",
    "n_15_freq = []\n",
    "for a in p_15:\n",
    "    p_15_words.append(a[0])\n",
    "    p_15_freq.append(a[1])\n",
    "for b in n_15:\n",
    "    n_15_words.append(b[0])\n",
    "    n_15_freq.append(b[1])\n",
    "\n",
    "ax[0].barh(p_15_words, p_15_freq, align='center',color='orange')\n",
    "ax[1].barh(n_15_words, n_15_freq, align='center',color='blue')\n",
    "ax[0].invert_yaxis() \n",
    "ax[1].invert_yaxis() \n",
    "ax[0].set_xlim(0,70)\n",
    "ax[1].set_xlim(0,70)"
   ]
  },
  {
   "cell_type": "markdown",
   "id": "80093056",
   "metadata": {},
   "source": [
    "###  comments:\n",
    "\n",
    "The only difference is that the \"no\" at the top of the negative words has been removed. \n"
   ]
  },
  {
   "cell_type": "markdown",
   "id": "463cac33-ddc0-4cb8-af99-cbf975511f53",
   "metadata": {},
   "source": [
    "* Repeat the above analysis one more time -> in addition to removing the stopwords, use the Porter stemmer to get a list of stemmed words before you calculate the word frequencies.\n",
    "* What words in your plot have now been counted together?"
   ]
  },
  {
   "cell_type": "code",
   "execution_count": 48,
   "id": "927d30bd-1cce-4791-9f1a-f77f5d6247e9",
   "metadata": {},
   "outputs": [
    {
     "data": {
      "text/plain": [
       "(0.0, 70.0)"
      ]
     },
     "execution_count": 48,
     "metadata": {},
     "output_type": "execute_result"
    },
    {
     "data": {
      "image/png": "[encoded data removed]",
      "text/plain": [
       "<Figure size 1080x576 with 2 Axes>"
      ]
     },
     "metadata": {
      "needs_background": "light"
     },
     "output_type": "display_data"
    }
   ],
   "source": [
    "# Code:\n",
    "\n",
    "wordPorterStems = [PorterStemmer().stem(w) for w in mac_no_stop]\n",
    "p_words = []\n",
    "n_words = []\n",
    "for m in wordPorterStems:\n",
    "    if sia.polarity_scores(m)['compound'] > 0:\n",
    "        p_words.append(m)\n",
    "    if sia.polarity_scores(m)['compound'] < 0:\n",
    "        n_words.append(m)\n",
    "p_15 = nltk.FreqDist(p_words).most_common(15)\n",
    "n_15 = nltk.FreqDist(n_words).most_common(15)\n",
    "\n",
    "fig,ax = plt.subplots(1,2,figsize=(15,8))\n",
    "\n",
    "p_15_words = []\n",
    "n_15_words = []\n",
    "p_15_freq = []\n",
    "n_15_freq = []\n",
    "for a in p_15:\n",
    "    p_15_words.append(a[0])\n",
    "    p_15_freq.append(a[1])\n",
    "for b in n_15:\n",
    "    n_15_words.append(b[0])\n",
    "    n_15_freq.append(b[1])\n",
    "\n",
    "ax[0].barh(p_15_words, p_15_freq, align='center',color='orange')\n",
    "ax[1].barh(n_15_words, n_15_freq, align='center',color='blue')\n",
    "ax[0].invert_yaxis() \n",
    "ax[1].invert_yaxis() \n",
    "ax[0].set_xlim(0,70)\n",
    "ax[1].set_xlim(0,70)"
   ]
  },
  {
   "cell_type": "markdown",
   "id": "437aa776",
   "metadata": {},
   "source": [
    "### comments:\n",
    "\n",
    "\"murder\" and \"murderer\" have been counted together in the negative words rank, and the \"die\" in different tenses have been counted together so that \"die\" can enter the top 15, so does \"fight\" and \"sorrow\". In the positive words rank, more verbs appear in the top 15, such as \"love\", \"thank\" and \"hope\", which indicate they are counted together with their morphological variants. "
   ]
  },
  {
   "cell_type": "markdown",
   "id": "75f33369-518b-48dd-9280-24245212e78c",
   "metadata": {},
   "source": [
    "## Romeo and Juliet"
   ]
  },
  {
   "cell_type": "markdown",
   "id": "2727f7e2-d000-4256-b766-59bd98dcb550",
   "metadata": {},
   "source": [
    "We are now going to plot the evolution of sentiment in Romeo and Juliet.\n",
    "\n",
    "This is motivated by the following plot (also from the afore-mentioned link):\n",
    "![Sentiment Evolution in Shakespeare](https://peerchristensen.netlify.com/post/2018-06-07-fair-is-foul-and-foul-is-fair-a-tidytext-entiment-analysis-of-shakespeare-s-tragedies_files/figure-html/unnamed-chunk-11-1.png)"
   ]
  },
  {
   "cell_type": "markdown",
   "id": "1b53dedb-e8f6-4084-82ae-6b5695e59fba",
   "metadata": {},
   "source": [
    "We are going to make a couple different plots."
   ]
  },
  {
   "cell_type": "markdown",
   "id": "1ff5a05a-43fe-4e9d-b039-1ff5b3f65b04",
   "metadata": {},
   "source": [
    "First:\n",
    "* Write a for loop that iterate over the scenes in Romeo and Juliet (`r_j_scenes`), and for each scene:\n",
    "  * Make a list of the scene's words by tokenizing the string\n",
    "  * Calculate the total scene sentiment score by summing the compound scores of all the words in that scene\n",
    "* Make a bar plot that has the scene number on the horizontal axis and the sentiment scores as the bar heights.\n",
    "* Comment on its resemblance to the Romeo and Juliet plot above."
   ]
  },
  {
   "cell_type": "code",
   "execution_count": 64,
   "id": "20f55faa-7483-42df-861b-096b242077f8",
   "metadata": {},
   "outputs": [
    {
     "data": {
      "text/plain": [
       "<BarContainer object of 25 artists>"
      ]
     },
     "execution_count": 64,
     "metadata": {},
     "output_type": "execute_result"
    },
    {
     "data": {
      "image/png": "[encoded data removed]",
      "text/plain": [
       "<Figure size 432x288 with 1 Axes>"
      ]
     },
     "metadata": {
      "needs_background": "light"
     },
     "output_type": "display_data"
    }
   ],
   "source": [
    "# Code:\n",
    "\n",
    "scores = []\n",
    "scene_words = []\n",
    "for s in r_j_scenes:\n",
    "    scene_words.append(word_tokenize(s))\n",
    "    scene_score = []\n",
    "    for w in word_tokenize(s):\n",
    "        scene_score.append(sia.polarity_scores(w)['compound'])\n",
    "    scores.append(sum(scene_score))\n",
    "\n",
    "scene_num = list(range(1,len(scores)+1))\n",
    "fig, ax = plt.subplots()\n",
    "ax.bar(scene_num, scores)"
   ]
  },
  {
   "cell_type": "markdown",
   "id": "a7e7cdec",
   "metadata": {},
   "source": [
    "### comments:\n",
    "\n",
    "Both the plots indicate the major sentiment for the previous half part of Romeo and Juliet is positive and the second half part negative. Despite the difference in the height of the peaks, the two plots are similar in the major trend of sentiment. \n"
   ]
  },
  {
   "cell_type": "markdown",
   "id": "c9bccdd8-4fe2-4ae1-92bb-267d5e347271",
   "metadata": {},
   "source": [
    "Second:\n",
    "* Write a for loop that iterate over the scenes in Romeo and Juliet (`r_j_scenes`), and for each scene:\n",
    "  * Make a list of the scene's words by tokenizing the string\n",
    "  * Calculate the total scene sentiment score by **adding 1 to the score for each positive word (compound_score > 0) and substracting 1 from the score for each negative word (compound_score < 0)**\n",
    "    * This total is the difference between the positive and negative word counts\n",
    "* Make a bar plot that has the scene number on the horizontal axis and the sentiment scores as the bar heights.\n",
    "* Does this change the plot relative to the previous method of calculating the total scene sentiment score?"
   ]
  },
  {
   "cell_type": "code",
   "execution_count": 66,
   "id": "37329a87-0cb5-4398-a05c-5c183dfbd7ef",
   "metadata": {},
   "outputs": [
    {
     "data": {
      "text/plain": [
       "<BarContainer object of 25 artists>"
      ]
     },
     "execution_count": 66,
     "metadata": {},
     "output_type": "execute_result"
    },
    {
     "data": {
      "image/png": "[encoded data removed]",
      "text/plain": [
       "<Figure size 432x288 with 1 Axes>"
      ]
     },
     "metadata": {
      "needs_background": "light"
     },
     "output_type": "display_data"
    }
   ],
   "source": [
    "# Code:\n",
    "\n",
    "scores = []\n",
    "scene_words = []\n",
    "for s in r_j_scenes:\n",
    "    scene_words.append(word_tokenize(s))\n",
    "    scene_score = []\n",
    "    for w in word_tokenize(s):\n",
    "        word_sent = sia.polarity_scores(w)['compound']\n",
    "        if word_sent > 0: \n",
    "            scene_score.append(word_sent+1)\n",
    "        if word_sent < 0:\n",
    "            scene_score.append(word_sent-1)\n",
    "    scores.append(sum(scene_score))\n",
    "\n",
    "scene_num = list(range(1,len(scores)+1))\n",
    "fig, ax = plt.subplots()\n",
    "ax.bar(scene_num, scores)"
   ]
  },
  {
   "cell_type": "markdown",
   "id": "8a489521",
   "metadata": {},
   "source": [
    "### comments:\n",
    "\n",
    "Though the trend of this plot is similar to the above one, the scale of the y-axis becomes larger, so it indicates that both the positive and negative sentiments have been magnified, and thus some tiny and subtle sentiment difference might be revealed more clearly in this chart.  "
   ]
  },
  {
   "cell_type": "markdown",
   "id": "8eac64f2-a6e1-4e57-96cf-f0102fe86d69",
   "metadata": {},
   "source": [
    "Next, we are going to use a new lexicon to assess positive and negative word sentiment, the opinion_lexicon (https://www.nltk.org/api/nltk.corpus.reader.opinion_lexicon.html)\n",
    "\n",
    "Execute the following cell to make a set of positive words and a set of negative words."
   ]
  },
  {
   "cell_type": "code",
   "execution_count": 67,
   "id": "36e82e1f-82a8-4ef5-893b-280c6216539a",
   "metadata": {},
   "outputs": [],
   "source": [
    "positive_words = set(opinion_lexicon.positive())\n",
    "negative_words = set(opinion_lexicon.negative())"
   ]
  },
  {
   "cell_type": "markdown",
   "id": "2c790e85-47ff-4dc9-bb73-bb3e6ee71ba5",
   "metadata": {},
   "source": [
    "The following cell is an example of checking whether a word is positive or negative according to this opinion lexicon.  Try it out with a couple words."
   ]
  },
  {
   "cell_type": "code",
   "execution_count": 72,
   "id": "3576c265-3caa-4f1c-8877-be531dbb5af0",
   "metadata": {},
   "outputs": [
    {
     "name": "stdout",
     "output_type": "stream",
     "text": [
      "find is neither positive nor negative\n"
     ]
    }
   ],
   "source": [
    "testword = 'find'\n",
    "if testword in positive_words:\n",
    "    print(testword + ' is positive')\n",
    "elif testword in negative_words:\n",
    "    print(testword + ' is negative')\n",
    "else:\n",
    "    print(testword + ' is neither positive nor negative')"
   ]
  },
  {
   "cell_type": "markdown",
   "id": "0c91a97d-32b6-4094-b6bc-0912adab3241",
   "metadata": {},
   "source": [
    "Third plot:\n",
    "\n",
    "* Write a for loop that iterate over the scenes in Romeo and Juliet (`r_j_scenes`), and for each scene:\n",
    "  * Make a list of the scene's words by tokenizing the string\n",
    "  * Calculate the total scene sentiment score by **adding 1 for each positive word and substracting 1 for each negative word, where the positive/negative word is assessed by its presence in the positive_words and negative_words sets.**\n",
    "    * This total is the difference between the positive and negative word counts\n",
    "* Make a bar plot that has the scene number on the horizontal axis and the sentiment scores as the bar heights.\n",
    "* Does this change the plot relative to the previous plots?"
   ]
  },
  {
   "cell_type": "code",
   "execution_count": 75,
   "id": "0f7b0abf-ca08-423d-b553-cef828ad5976",
   "metadata": {},
   "outputs": [
    {
     "data": {
      "text/plain": [
       "<BarContainer object of 25 artists>"
      ]
     },
     "execution_count": 75,
     "metadata": {},
     "output_type": "execute_result"
    },
    {
     "data": {
      "image/png": "[encoded data removed]",
      "text/plain": [
       "<Figure size 432x288 with 1 Axes>"
      ]
     },
     "metadata": {
      "needs_background": "light"
     },
     "output_type": "display_data"
    }
   ],
   "source": [
    "# Code:\n",
    "\n",
    "scores = []\n",
    "scene_words = []\n",
    "for s in r_j_scenes:\n",
    "    scene_words.append(word_tokenize(s))\n",
    "    scene_score = 0\n",
    "    for w in word_tokenize(s):\n",
    "        if w in positive_words: \n",
    "            scene_score += 1\n",
    "        if w in negative_words:\n",
    "            scene_score -= 1\n",
    "    scores.append(scene_score)\n",
    "\n",
    "scene_num = list(range(1,len(scores)+1))\n",
    "fig, ax = plt.subplots()\n",
    "ax.bar(scene_num, scores)"
   ]
  },
  {
   "cell_type": "markdown",
   "id": "79b2aec5",
   "metadata": {},
   "source": [
    "### comments:\n",
    "\n",
    "The positive peak is lower and the negative peak in the graph is higher. It indicates the sentiments of all the scenes are analyzed to be more negative in this plot. "
   ]
  },
  {
   "cell_type": "markdown",
   "id": "b068e0e3-ed19-464f-a6e8-4fa265b49bdb",
   "metadata": {},
   "source": [
    "Fourth plot:\n",
    "\n",
    "* Take the entire string of Romeo and Juliet (`r_j_string`) and tokenize it into words.\n",
    "* Calculate a total sentiment score for each consecutive group of 500 words.\n",
    "  * Do this as immediately above by adding 1 for each positive word and substracting 1 for each negative word, where the positive/negative word is assessed by its presence in the positive_words and negative_words sets.\n",
    "* Make a bar plot that has the group number (0,1,2,3,...) on the horizontal axis and the sentiment scores as the bar heights.\n",
    "* Does this change the plot relative to the previous plots?"
   ]
  },
  {
   "cell_type": "code",
   "execution_count": 80,
   "id": "fd640564-4aca-44db-8cfd-b6be049558ac",
   "metadata": {},
   "outputs": [
    {
     "data": {
      "text/plain": [
       "<BarContainer object of 65 artists>"
      ]
     },
     "execution_count": 80,
     "metadata": {},
     "output_type": "execute_result"
    },
    {
     "data": {
      "image/png": "[encoded data removed]",
      "text/plain": [
       "<Figure size 432x288 with 1 Axes>"
      ]
     },
     "metadata": {
      "needs_background": "light"
     },
     "output_type": "display_data"
    }
   ],
   "source": [
    "# Code:\n",
    "\n",
    "r_j_str = word_tokenize(r_j_string)\n",
    "groups = []\n",
    "cut = 0\n",
    "while (cut+500) < len(r_j_str):\n",
    "    groups.append(r_j_str[cut:cut+500])\n",
    "    cut += 500\n",
    "groups.append(r_j_str[cut:len(r_j_str)])\n",
    "scores = []\n",
    "for g in groups:\n",
    "    group_score = 0\n",
    "    for w in g:\n",
    "        if w in positive_words: \n",
    "            group_score += 1\n",
    "        if w in negative_words:\n",
    "            group_score -= 1\n",
    "    scores.append(group_score)\n",
    "    \n",
    "group_num = list(range(len(scores)))\n",
    "fig, ax = plt.subplots()\n",
    "ax.bar(group_num, scores)"
   ]
  },
  {
   "cell_type": "markdown",
   "id": "2f9ccb56",
   "metadata": {},
   "source": [
    "### comments:\n",
    "\n",
    "This analysis is more fine-grained and can reveal very tiny sentiment change compared with the above ones plotted based on chapters. "
   ]
  },
  {
   "cell_type": "markdown",
   "id": "cb1d548c-f4c1-41dd-9264-49b397ec2261",
   "metadata": {},
   "source": [
    "What method would you use if you had to report on the evolution of sentiment in Romeo and Juliet to an audience of Shakespearian academics?\n",
    "\n",
    "I would use the the entire string of Romeo and Juliet as the raw data, and divide them with an appropriate group scale, and then apply sentiment analysis using the positive and negative word sets. First, it might be cursory to analyze the sentiments by different chapters since there might also be considerable up and downs of sentiment within one chapter, so that the method to use chapters as groups may lead to a neutral outcome as the positive value could be neutralized by the negative value. Applying the sentiment analysis not based on the chapter division can avoid this problem. \n",
    "\n",
    "The negative and positive sets seem more accurate intuitively, as the vader model had a low accuracy in previous sentiment analysis in last lecture. "
   ]
  },
  {
   "cell_type": "markdown",
   "id": "747b1430-d408-4fd5-960b-c1540709ecad",
   "metadata": {},
   "source": []
  }
 ],
 "metadata": {
  "kernelspec": {
   "display_name": "Python 3 (ipykernel)",
   "language": "python",
   "name": "python3"
  },
  "language_info": {
   "codemirror_mode": {
    "name": "ipython",
    "version": 3
   },
   "file_extension": ".py",
   "mimetype": "text/x-python",
   "name": "python",
   "nbconvert_exporter": "python",
   "pygments_lexer": "ipython3",
   "version": "3.9.12"
  }
 },
 "nbformat": 4,
 "nbformat_minor": 5
}
