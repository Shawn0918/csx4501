{
 "cells": [
  {
   "cell_type": "markdown",
   "id": "f2e56540",
   "metadata": {},
   "source": [
    "## Covid Dataset\n",
    "\n",
    "### Dataset Introduction\n",
    "The data set contains daily reports of Covid-19 cases and deaths in countries worldwide. The data also shows the country’s population and the number of cases per 100,000 people on a rolling 14 day average.\n",
    "\n",
    "Visit <https://corgis-edu.github.io/corgis/csv/covid/?\\> to get more information of this dataset.\n",
    "### Column Names\n",
    "|Key\t| List of... |\tComment|\tExample Value|\n",
    "|:-----|:----------|:----------|:-----------|\n",
    "Date.Day|\tInteger|\tThe day of the month for this report | 31 |\n",
    "Date.Month| \tInteger|\tThe month of the year for this report\t|12\n",
    "Date.Year|\tInteger|\tThe year of this report\t|2019\n",
    "Data.Cases|\tInteger\t|Number of new cases reported\t|0\n",
    "Data.Deaths|\tInteger|\tNumber of new deaths reported\t|0\n",
    "Location.Country|\tString|\tName of country for this report (e.g., \"United_States_of_America\")\t|\"Afghanistan\"\n",
    "Location.Code|\tString|\tThree letter country code (e.g., :USA\")\t|\"AFG\"\n",
    "Data.Population|\tInteger|\tPopulation of the country in 2019\t|38041757\n",
    "Location.Continent|\tString|\tContinent of country (e.g., \"Asia\", \"Europe\", \"America\")\t|\"Asia\"\n",
    "Data.Rate|\tFloat|\tCumulative number of cases reported for 14 days per 100000 people\t|0.0"
   ]
  },
  {
   "cell_type": "code",
   "execution_count": 109,
   "id": "efd32376",
   "metadata": {},
   "outputs": [],
   "source": [
    "import pandas as pd\n",
    "import numpy as np\n",
    "import matplotlib.pyplot as plt\n",
    "import seaborn as sns"
   ]
  },
  {
   "cell_type": "code",
   "execution_count": 2,
   "id": "4e575c6e",
   "metadata": {},
   "outputs": [
    {
     "data": {
      "text/html": [
       "<div>\n",
       "<style scoped>\n",
       "    .dataframe tbody tr th:only-of-type {\n",
       "        vertical-align: middle;\n",
       "    }\n",
       "\n",
       "    .dataframe tbody tr th {\n",
       "        vertical-align: top;\n",
       "    }\n",
       "\n",
       "    .dataframe thead th {\n",
       "        text-align: right;\n",
       "    }\n",
       "</style>\n",
       "<table border=\"1\" class=\"dataframe\">\n",
       "  <thead>\n",
       "    <tr style=\"text-align: right;\">\n",
       "      <th></th>\n",
       "      <th>Date.Day</th>\n",
       "      <th>Date.Month</th>\n",
       "      <th>Date.Year</th>\n",
       "      <th>Data.Cases</th>\n",
       "      <th>Data.Deaths</th>\n",
       "      <th>Data.Population</th>\n",
       "      <th>Data.Rate</th>\n",
       "    </tr>\n",
       "  </thead>\n",
       "  <tbody>\n",
       "    <tr>\n",
       "      <th>count</th>\n",
       "      <td>53629.000000</td>\n",
       "      <td>53629.000000</td>\n",
       "      <td>53629.000000</td>\n",
       "      <td>53629.000000</td>\n",
       "      <td>53629.000000</td>\n",
       "      <td>5.362900e+04</td>\n",
       "      <td>53629.000000</td>\n",
       "    </tr>\n",
       "    <tr>\n",
       "      <th>mean</th>\n",
       "      <td>15.845009</td>\n",
       "      <td>6.406776</td>\n",
       "      <td>2019.998751</td>\n",
       "      <td>898.374033</td>\n",
       "      <td>22.873035</td>\n",
       "      <td>4.164579e+07</td>\n",
       "      <td>44.382863</td>\n",
       "    </tr>\n",
       "    <tr>\n",
       "      <th>std</th>\n",
       "      <td>8.940220</td>\n",
       "      <td>2.600373</td>\n",
       "      <td>0.035324</td>\n",
       "      <td>5019.868017</td>\n",
       "      <td>124.259355</td>\n",
       "      <td>1.548019e+08</td>\n",
       "      <td>113.147610</td>\n",
       "    </tr>\n",
       "    <tr>\n",
       "      <th>min</th>\n",
       "      <td>1.000000</td>\n",
       "      <td>1.000000</td>\n",
       "      <td>2019.000000</td>\n",
       "      <td>-8261.000000</td>\n",
       "      <td>-1918.000000</td>\n",
       "      <td>-1.000000e+00</td>\n",
       "      <td>-147.419587</td>\n",
       "    </tr>\n",
       "    <tr>\n",
       "      <th>25%</th>\n",
       "      <td>8.000000</td>\n",
       "      <td>4.000000</td>\n",
       "      <td>2020.000000</td>\n",
       "      <td>0.000000</td>\n",
       "      <td>0.000000</td>\n",
       "      <td>1.324820e+06</td>\n",
       "      <td>0.269203</td>\n",
       "    </tr>\n",
       "    <tr>\n",
       "      <th>50%</th>\n",
       "      <td>16.000000</td>\n",
       "      <td>7.000000</td>\n",
       "      <td>2020.000000</td>\n",
       "      <td>13.000000</td>\n",
       "      <td>0.000000</td>\n",
       "      <td>7.813207e+06</td>\n",
       "      <td>4.652782</td>\n",
       "    </tr>\n",
       "    <tr>\n",
       "      <th>75%</th>\n",
       "      <td>24.000000</td>\n",
       "      <td>9.000000</td>\n",
       "      <td>2020.000000</td>\n",
       "      <td>206.000000</td>\n",
       "      <td>3.000000</td>\n",
       "      <td>2.860872e+07</td>\n",
       "      <td>34.905448</td>\n",
       "    </tr>\n",
       "    <tr>\n",
       "      <th>max</th>\n",
       "      <td>31.000000</td>\n",
       "      <td>12.000000</td>\n",
       "      <td>2020.000000</td>\n",
       "      <td>102507.000000</td>\n",
       "      <td>4928.000000</td>\n",
       "      <td>1.433784e+09</td>\n",
       "      <td>1900.836210</td>\n",
       "    </tr>\n",
       "  </tbody>\n",
       "</table>\n",
       "</div>"
      ],
      "text/plain": [
       "           Date.Day    Date.Month     Date.Year     Data.Cases   Data.Deaths  \\\n",
       "count  53629.000000  53629.000000  53629.000000   53629.000000  53629.000000   \n",
       "mean      15.845009      6.406776   2019.998751     898.374033     22.873035   \n",
       "std        8.940220      2.600373      0.035324    5019.868017    124.259355   \n",
       "min        1.000000      1.000000   2019.000000   -8261.000000  -1918.000000   \n",
       "25%        8.000000      4.000000   2020.000000       0.000000      0.000000   \n",
       "50%       16.000000      7.000000   2020.000000      13.000000      0.000000   \n",
       "75%       24.000000      9.000000   2020.000000     206.000000      3.000000   \n",
       "max       31.000000     12.000000   2020.000000  102507.000000   4928.000000   \n",
       "\n",
       "       Data.Population     Data.Rate  \n",
       "count     5.362900e+04  53629.000000  \n",
       "mean      4.164579e+07     44.382863  \n",
       "std       1.548019e+08    113.147610  \n",
       "min      -1.000000e+00   -147.419587  \n",
       "25%       1.324820e+06      0.269203  \n",
       "50%       7.813207e+06      4.652782  \n",
       "75%       2.860872e+07     34.905448  \n",
       "max       1.433784e+09   1900.836210  "
      ]
     },
     "execution_count": 2,
     "metadata": {},
     "output_type": "execute_result"
    }
   ],
   "source": [
    "df = pd.read_csv(\"data/covid.csv\")\n",
    "df.describe()"
   ]
  },
  {
   "cell_type": "markdown",
   "id": "95808ae5",
   "metadata": {},
   "source": [
    "For there are negative values in Cases, Deaths and Rate which are abnormal, and there's no description in the documentation about these negative values, I removed these values. "
   ]
  },
  {
   "cell_type": "code",
   "execution_count": 3,
   "id": "4c4608ee",
   "metadata": {},
   "outputs": [
    {
     "data": {
      "text/html": [
       "<div>\n",
       "<style scoped>\n",
       "    .dataframe tbody tr th:only-of-type {\n",
       "        vertical-align: middle;\n",
       "    }\n",
       "\n",
       "    .dataframe tbody tr th {\n",
       "        vertical-align: top;\n",
       "    }\n",
       "\n",
       "    .dataframe thead th {\n",
       "        text-align: right;\n",
       "    }\n",
       "</style>\n",
       "<table border=\"1\" class=\"dataframe\">\n",
       "  <thead>\n",
       "    <tr style=\"text-align: right;\">\n",
       "      <th></th>\n",
       "      <th>Date.Day</th>\n",
       "      <th>Date.Month</th>\n",
       "      <th>Date.Year</th>\n",
       "      <th>Data.Cases</th>\n",
       "      <th>Data.Deaths</th>\n",
       "      <th>Location.Country</th>\n",
       "      <th>Location.Code</th>\n",
       "      <th>Data.Population</th>\n",
       "      <th>Location.Continent</th>\n",
       "      <th>Data.Rate</th>\n",
       "    </tr>\n",
       "  </thead>\n",
       "  <tbody>\n",
       "    <tr>\n",
       "      <th>12</th>\n",
       "      <td>31</td>\n",
       "      <td>12</td>\n",
       "      <td>2019</td>\n",
       "      <td>0</td>\n",
       "      <td>0</td>\n",
       "      <td>Cases_on_an_international_conveyance_Japan</td>\n",
       "      <td>NaN</td>\n",
       "      <td>-1</td>\n",
       "      <td>Other</td>\n",
       "      <td>0.0</td>\n",
       "    </tr>\n",
       "    <tr>\n",
       "      <th>79</th>\n",
       "      <td>1</td>\n",
       "      <td>1</td>\n",
       "      <td>2020</td>\n",
       "      <td>0</td>\n",
       "      <td>0</td>\n",
       "      <td>Cases_on_an_international_conveyance_Japan</td>\n",
       "      <td>NaN</td>\n",
       "      <td>-1</td>\n",
       "      <td>Other</td>\n",
       "      <td>0.0</td>\n",
       "    </tr>\n",
       "    <tr>\n",
       "      <th>146</th>\n",
       "      <td>2</td>\n",
       "      <td>1</td>\n",
       "      <td>2020</td>\n",
       "      <td>0</td>\n",
       "      <td>0</td>\n",
       "      <td>Cases_on_an_international_conveyance_Japan</td>\n",
       "      <td>NaN</td>\n",
       "      <td>-1</td>\n",
       "      <td>Other</td>\n",
       "      <td>0.0</td>\n",
       "    </tr>\n",
       "    <tr>\n",
       "      <th>213</th>\n",
       "      <td>3</td>\n",
       "      <td>1</td>\n",
       "      <td>2020</td>\n",
       "      <td>0</td>\n",
       "      <td>0</td>\n",
       "      <td>Cases_on_an_international_conveyance_Japan</td>\n",
       "      <td>NaN</td>\n",
       "      <td>-1</td>\n",
       "      <td>Other</td>\n",
       "      <td>0.0</td>\n",
       "    </tr>\n",
       "    <tr>\n",
       "      <th>280</th>\n",
       "      <td>4</td>\n",
       "      <td>1</td>\n",
       "      <td>2020</td>\n",
       "      <td>0</td>\n",
       "      <td>0</td>\n",
       "      <td>Cases_on_an_international_conveyance_Japan</td>\n",
       "      <td>NaN</td>\n",
       "      <td>-1</td>\n",
       "      <td>Other</td>\n",
       "      <td>0.0</td>\n",
       "    </tr>\n",
       "    <tr>\n",
       "      <th>...</th>\n",
       "      <td>...</td>\n",
       "      <td>...</td>\n",
       "      <td>...</td>\n",
       "      <td>...</td>\n",
       "      <td>...</td>\n",
       "      <td>...</td>\n",
       "      <td>...</td>\n",
       "      <td>...</td>\n",
       "      <td>...</td>\n",
       "      <td>...</td>\n",
       "    </tr>\n",
       "    <tr>\n",
       "      <th>52738</th>\n",
       "      <td>1</td>\n",
       "      <td>11</td>\n",
       "      <td>2020</td>\n",
       "      <td>0</td>\n",
       "      <td>0</td>\n",
       "      <td>Wallis_and_Futuna</td>\n",
       "      <td>NaN</td>\n",
       "      <td>-1</td>\n",
       "      <td>Oceania</td>\n",
       "      <td>0.0</td>\n",
       "    </tr>\n",
       "    <tr>\n",
       "      <th>52950</th>\n",
       "      <td>2</td>\n",
       "      <td>11</td>\n",
       "      <td>2020</td>\n",
       "      <td>0</td>\n",
       "      <td>0</td>\n",
       "      <td>Wallis_and_Futuna</td>\n",
       "      <td>NaN</td>\n",
       "      <td>-1</td>\n",
       "      <td>Oceania</td>\n",
       "      <td>0.0</td>\n",
       "    </tr>\n",
       "    <tr>\n",
       "      <th>53162</th>\n",
       "      <td>3</td>\n",
       "      <td>11</td>\n",
       "      <td>2020</td>\n",
       "      <td>0</td>\n",
       "      <td>0</td>\n",
       "      <td>Wallis_and_Futuna</td>\n",
       "      <td>NaN</td>\n",
       "      <td>-1</td>\n",
       "      <td>Oceania</td>\n",
       "      <td>0.0</td>\n",
       "    </tr>\n",
       "    <tr>\n",
       "      <th>53374</th>\n",
       "      <td>4</td>\n",
       "      <td>11</td>\n",
       "      <td>2020</td>\n",
       "      <td>0</td>\n",
       "      <td>0</td>\n",
       "      <td>Wallis_and_Futuna</td>\n",
       "      <td>NaN</td>\n",
       "      <td>-1</td>\n",
       "      <td>Oceania</td>\n",
       "      <td>0.0</td>\n",
       "    </tr>\n",
       "    <tr>\n",
       "      <th>53585</th>\n",
       "      <td>5</td>\n",
       "      <td>11</td>\n",
       "      <td>2020</td>\n",
       "      <td>0</td>\n",
       "      <td>0</td>\n",
       "      <td>Wallis_and_Futuna</td>\n",
       "      <td>NaN</td>\n",
       "      <td>-1</td>\n",
       "      <td>Oceania</td>\n",
       "      <td>0.0</td>\n",
       "    </tr>\n",
       "  </tbody>\n",
       "</table>\n",
       "<p>84 rows × 10 columns</p>\n",
       "</div>"
      ],
      "text/plain": [
       "       Date.Day  Date.Month  Date.Year  Data.Cases  Data.Deaths  \\\n",
       "12           31          12       2019           0            0   \n",
       "79            1           1       2020           0            0   \n",
       "146           2           1       2020           0            0   \n",
       "213           3           1       2020           0            0   \n",
       "280           4           1       2020           0            0   \n",
       "...         ...         ...        ...         ...          ...   \n",
       "52738         1          11       2020           0            0   \n",
       "52950         2          11       2020           0            0   \n",
       "53162         3          11       2020           0            0   \n",
       "53374         4          11       2020           0            0   \n",
       "53585         5          11       2020           0            0   \n",
       "\n",
       "                                 Location.Country Location.Code  \\\n",
       "12     Cases_on_an_international_conveyance_Japan           NaN   \n",
       "79     Cases_on_an_international_conveyance_Japan           NaN   \n",
       "146    Cases_on_an_international_conveyance_Japan           NaN   \n",
       "213    Cases_on_an_international_conveyance_Japan           NaN   \n",
       "280    Cases_on_an_international_conveyance_Japan           NaN   \n",
       "...                                           ...           ...   \n",
       "52738                           Wallis_and_Futuna           NaN   \n",
       "52950                           Wallis_and_Futuna           NaN   \n",
       "53162                           Wallis_and_Futuna           NaN   \n",
       "53374                           Wallis_and_Futuna           NaN   \n",
       "53585                           Wallis_and_Futuna           NaN   \n",
       "\n",
       "       Data.Population Location.Continent  Data.Rate  \n",
       "12                  -1              Other        0.0  \n",
       "79                  -1              Other        0.0  \n",
       "146                 -1              Other        0.0  \n",
       "213                 -1              Other        0.0  \n",
       "280                 -1              Other        0.0  \n",
       "...                ...                ...        ...  \n",
       "52738               -1            Oceania        0.0  \n",
       "52950               -1            Oceania        0.0  \n",
       "53162               -1            Oceania        0.0  \n",
       "53374               -1            Oceania        0.0  \n",
       "53585               -1            Oceania        0.0  \n",
       "\n",
       "[84 rows x 10 columns]"
      ]
     },
     "execution_count": 3,
     "metadata": {},
     "output_type": "execute_result"
    }
   ],
   "source": [
    "df[df['Data.Population']==-1]"
   ]
  },
  {
   "cell_type": "code",
   "execution_count": 4,
   "id": "987c031a",
   "metadata": {},
   "outputs": [],
   "source": [
    "df.drop(df[df['Data.Population']<=0].index, inplace=True)"
   ]
  },
  {
   "cell_type": "code",
   "execution_count": 5,
   "id": "dc79c168",
   "metadata": {},
   "outputs": [
    {
     "data": {
      "text/html": [
       "<div>\n",
       "<style scoped>\n",
       "    .dataframe tbody tr th:only-of-type {\n",
       "        vertical-align: middle;\n",
       "    }\n",
       "\n",
       "    .dataframe tbody tr th {\n",
       "        vertical-align: top;\n",
       "    }\n",
       "\n",
       "    .dataframe thead th {\n",
       "        text-align: right;\n",
       "    }\n",
       "</style>\n",
       "<table border=\"1\" class=\"dataframe\">\n",
       "  <thead>\n",
       "    <tr style=\"text-align: right;\">\n",
       "      <th></th>\n",
       "      <th>Date.Day</th>\n",
       "      <th>Date.Month</th>\n",
       "      <th>Date.Year</th>\n",
       "      <th>Data.Cases</th>\n",
       "      <th>Data.Deaths</th>\n",
       "      <th>Location.Country</th>\n",
       "      <th>Location.Code</th>\n",
       "      <th>Data.Population</th>\n",
       "      <th>Location.Continent</th>\n",
       "      <th>Data.Rate</th>\n",
       "    </tr>\n",
       "  </thead>\n",
       "  <tbody>\n",
       "    <tr>\n",
       "      <th>19236</th>\n",
       "      <td>25</td>\n",
       "      <td>5</td>\n",
       "      <td>2020</td>\n",
       "      <td>-372</td>\n",
       "      <td>-1918</td>\n",
       "      <td>Spain</td>\n",
       "      <td>ESP</td>\n",
       "      <td>46937060</td>\n",
       "      <td>Europe</td>\n",
       "      <td>16.255812</td>\n",
       "    </tr>\n",
       "    <tr>\n",
       "      <th>25634</th>\n",
       "      <td>25</td>\n",
       "      <td>6</td>\n",
       "      <td>2020</td>\n",
       "      <td>577</td>\n",
       "      <td>-31</td>\n",
       "      <td>Italy</td>\n",
       "      <td>ITA</td>\n",
       "      <td>60359546</td>\n",
       "      <td>Europe</td>\n",
       "      <td>6.042126</td>\n",
       "    </tr>\n",
       "    <tr>\n",
       "      <th>27677</th>\n",
       "      <td>5</td>\n",
       "      <td>7</td>\n",
       "      <td>2020</td>\n",
       "      <td>121</td>\n",
       "      <td>-1</td>\n",
       "      <td>Czechia</td>\n",
       "      <td>CZE</td>\n",
       "      <td>10649800</td>\n",
       "      <td>Europe</td>\n",
       "      <td>18.704577</td>\n",
       "    </tr>\n",
       "    <tr>\n",
       "      <th>27886</th>\n",
       "      <td>6</td>\n",
       "      <td>7</td>\n",
       "      <td>2020</td>\n",
       "      <td>75</td>\n",
       "      <td>-3</td>\n",
       "      <td>Czechia</td>\n",
       "      <td>CZE</td>\n",
       "      <td>10649800</td>\n",
       "      <td>Europe</td>\n",
       "      <td>18.939323</td>\n",
       "    </tr>\n",
       "    <tr>\n",
       "      <th>34419</th>\n",
       "      <td>6</td>\n",
       "      <td>8</td>\n",
       "      <td>2020</td>\n",
       "      <td>218</td>\n",
       "      <td>-12</td>\n",
       "      <td>Kosovo</td>\n",
       "      <td>XKX</td>\n",
       "      <td>1798506</td>\n",
       "      <td>Europe</td>\n",
       "      <td>178.259066</td>\n",
       "    </tr>\n",
       "    <tr>\n",
       "      <th>35746</th>\n",
       "      <td>12</td>\n",
       "      <td>8</td>\n",
       "      <td>2020</td>\n",
       "      <td>3172</td>\n",
       "      <td>-2</td>\n",
       "      <td>Spain</td>\n",
       "      <td>ESP</td>\n",
       "      <td>46937060</td>\n",
       "      <td>Europe</td>\n",
       "      <td>100.438758</td>\n",
       "    </tr>\n",
       "    <tr>\n",
       "      <th>38183</th>\n",
       "      <td>24</td>\n",
       "      <td>8</td>\n",
       "      <td>2020</td>\n",
       "      <td>237</td>\n",
       "      <td>-443</td>\n",
       "      <td>Kyrgyzstan</td>\n",
       "      <td>KGZ</td>\n",
       "      <td>6415851</td>\n",
       "      <td>Asia</td>\n",
       "      <td>45.964284</td>\n",
       "    </tr>\n",
       "    <tr>\n",
       "      <th>46531</th>\n",
       "      <td>3</td>\n",
       "      <td>10</td>\n",
       "      <td>2020</td>\n",
       "      <td>466</td>\n",
       "      <td>-5</td>\n",
       "      <td>Ireland</td>\n",
       "      <td>IRL</td>\n",
       "      <td>4904240</td>\n",
       "      <td>Europe</td>\n",
       "      <td>97.711368</td>\n",
       "    </tr>\n",
       "  </tbody>\n",
       "</table>\n",
       "</div>"
      ],
      "text/plain": [
       "       Date.Day  Date.Month  Date.Year  Data.Cases  Data.Deaths  \\\n",
       "19236        25           5       2020        -372        -1918   \n",
       "25634        25           6       2020         577          -31   \n",
       "27677         5           7       2020         121           -1   \n",
       "27886         6           7       2020          75           -3   \n",
       "34419         6           8       2020         218          -12   \n",
       "35746        12           8       2020        3172           -2   \n",
       "38183        24           8       2020         237         -443   \n",
       "46531         3          10       2020         466           -5   \n",
       "\n",
       "      Location.Country Location.Code  Data.Population Location.Continent  \\\n",
       "19236            Spain           ESP         46937060             Europe   \n",
       "25634            Italy           ITA         60359546             Europe   \n",
       "27677          Czechia           CZE         10649800             Europe   \n",
       "27886          Czechia           CZE         10649800             Europe   \n",
       "34419           Kosovo           XKX          1798506             Europe   \n",
       "35746            Spain           ESP         46937060             Europe   \n",
       "38183       Kyrgyzstan           KGZ          6415851               Asia   \n",
       "46531          Ireland           IRL          4904240             Europe   \n",
       "\n",
       "        Data.Rate  \n",
       "19236   16.255812  \n",
       "25634    6.042126  \n",
       "27677   18.704577  \n",
       "27886   18.939323  \n",
       "34419  178.259066  \n",
       "35746  100.438758  \n",
       "38183   45.964284  \n",
       "46531   97.711368  "
      ]
     },
     "execution_count": 5,
     "metadata": {},
     "output_type": "execute_result"
    }
   ],
   "source": [
    "df[df['Data.Deaths']<0]"
   ]
  },
  {
   "cell_type": "code",
   "execution_count": 6,
   "id": "efe6ad14",
   "metadata": {},
   "outputs": [],
   "source": [
    "df.drop(df[df['Data.Deaths']<0].index, inplace=True)"
   ]
  },
  {
   "cell_type": "code",
   "execution_count": 7,
   "id": "0ec8fdcb",
   "metadata": {},
   "outputs": [
    {
     "data": {
      "text/html": [
       "<div>\n",
       "<style scoped>\n",
       "    .dataframe tbody tr th:only-of-type {\n",
       "        vertical-align: middle;\n",
       "    }\n",
       "\n",
       "    .dataframe tbody tr th {\n",
       "        vertical-align: top;\n",
       "    }\n",
       "\n",
       "    .dataframe thead th {\n",
       "        text-align: right;\n",
       "    }\n",
       "</style>\n",
       "<table border=\"1\" class=\"dataframe\">\n",
       "  <thead>\n",
       "    <tr style=\"text-align: right;\">\n",
       "      <th></th>\n",
       "      <th>Date.Day</th>\n",
       "      <th>Date.Month</th>\n",
       "      <th>Date.Year</th>\n",
       "      <th>Data.Cases</th>\n",
       "      <th>Data.Deaths</th>\n",
       "      <th>Location.Country</th>\n",
       "      <th>Location.Code</th>\n",
       "      <th>Data.Population</th>\n",
       "      <th>Location.Continent</th>\n",
       "      <th>Data.Rate</th>\n",
       "    </tr>\n",
       "  </thead>\n",
       "  <tbody>\n",
       "    <tr>\n",
       "      <th>11768</th>\n",
       "      <td>19</td>\n",
       "      <td>4</td>\n",
       "      <td>2020</td>\n",
       "      <td>-713</td>\n",
       "      <td>410</td>\n",
       "      <td>Spain</td>\n",
       "      <td>ESP</td>\n",
       "      <td>46937060</td>\n",
       "      <td>Europe</td>\n",
       "      <td>116.157680</td>\n",
       "    </tr>\n",
       "    <tr>\n",
       "      <th>13758</th>\n",
       "      <td>29</td>\n",
       "      <td>4</td>\n",
       "      <td>2020</td>\n",
       "      <td>-105</td>\n",
       "      <td>3</td>\n",
       "      <td>Lithuania</td>\n",
       "      <td>LTU</td>\n",
       "      <td>2794184</td>\n",
       "      <td>Europe</td>\n",
       "      <td>9.806083</td>\n",
       "    </tr>\n",
       "    <tr>\n",
       "      <th>14625</th>\n",
       "      <td>3</td>\n",
       "      <td>5</td>\n",
       "      <td>2020</td>\n",
       "      <td>-161</td>\n",
       "      <td>16</td>\n",
       "      <td>Portugal</td>\n",
       "      <td>PRT</td>\n",
       "      <td>10276617</td>\n",
       "      <td>Europe</td>\n",
       "      <td>53.568212</td>\n",
       "    </tr>\n",
       "    <tr>\n",
       "      <th>15361</th>\n",
       "      <td>7</td>\n",
       "      <td>5</td>\n",
       "      <td>2020</td>\n",
       "      <td>-2461</td>\n",
       "      <td>49</td>\n",
       "      <td>Ecuador</td>\n",
       "      <td>ECU</td>\n",
       "      <td>17373657</td>\n",
       "      <td>America</td>\n",
       "      <td>106.885960</td>\n",
       "    </tr>\n",
       "    <tr>\n",
       "      <th>15777</th>\n",
       "      <td>9</td>\n",
       "      <td>5</td>\n",
       "      <td>2020</td>\n",
       "      <td>-1480</td>\n",
       "      <td>50</td>\n",
       "      <td>Ecuador</td>\n",
       "      <td>ECU</td>\n",
       "      <td>17373657</td>\n",
       "      <td>America</td>\n",
       "      <td>101.504249</td>\n",
       "    </tr>\n",
       "    <tr>\n",
       "      <th>16298</th>\n",
       "      <td>11</td>\n",
       "      <td>5</td>\n",
       "      <td>2020</td>\n",
       "      <td>-9</td>\n",
       "      <td>0</td>\n",
       "      <td>San_Marino</td>\n",
       "      <td>SMR</td>\n",
       "      <td>34453</td>\n",
       "      <td>Europe</td>\n",
       "      <td>261.225438</td>\n",
       "    </tr>\n",
       "    <tr>\n",
       "      <th>16401</th>\n",
       "      <td>12</td>\n",
       "      <td>5</td>\n",
       "      <td>2020</td>\n",
       "      <td>-50</td>\n",
       "      <td>18</td>\n",
       "      <td>Ecuador</td>\n",
       "      <td>ECU</td>\n",
       "      <td>17373657</td>\n",
       "      <td>America</td>\n",
       "      <td>36.083365</td>\n",
       "    </tr>\n",
       "    <tr>\n",
       "      <th>18033</th>\n",
       "      <td>20</td>\n",
       "      <td>5</td>\n",
       "      <td>2020</td>\n",
       "      <td>-209</td>\n",
       "      <td>0</td>\n",
       "      <td>Benin</td>\n",
       "      <td>BEN</td>\n",
       "      <td>11801151</td>\n",
       "      <td>Africa</td>\n",
       "      <td>0.288107</td>\n",
       "    </tr>\n",
       "    <tr>\n",
       "      <th>18416</th>\n",
       "      <td>21</td>\n",
       "      <td>5</td>\n",
       "      <td>2020</td>\n",
       "      <td>-115</td>\n",
       "      <td>0</td>\n",
       "      <td>Uganda</td>\n",
       "      <td>UGA</td>\n",
       "      <td>44269587</td>\n",
       "      <td>Africa</td>\n",
       "      <td>0.106168</td>\n",
       "    </tr>\n",
       "    <tr>\n",
       "      <th>20924</th>\n",
       "      <td>2</td>\n",
       "      <td>6</td>\n",
       "      <td>2020</td>\n",
       "      <td>-1</td>\n",
       "      <td>0</td>\n",
       "      <td>Uganda</td>\n",
       "      <td>UGA</td>\n",
       "      <td>44269587</td>\n",
       "      <td>Africa</td>\n",
       "      <td>0.445001</td>\n",
       "    </tr>\n",
       "    <tr>\n",
       "      <th>21008</th>\n",
       "      <td>3</td>\n",
       "      <td>6</td>\n",
       "      <td>2020</td>\n",
       "      <td>-766</td>\n",
       "      <td>107</td>\n",
       "      <td>France</td>\n",
       "      <td>FRA</td>\n",
       "      <td>67012883</td>\n",
       "      <td>Europe</td>\n",
       "      <td>11.785793</td>\n",
       "    </tr>\n",
       "    <tr>\n",
       "      <th>24589</th>\n",
       "      <td>20</td>\n",
       "      <td>6</td>\n",
       "      <td>2020</td>\n",
       "      <td>-148</td>\n",
       "      <td>47</td>\n",
       "      <td>Italy</td>\n",
       "      <td>ITA</td>\n",
       "      <td>60359546</td>\n",
       "      <td>Europe</td>\n",
       "      <td>5.765451</td>\n",
       "    </tr>\n",
       "    <tr>\n",
       "      <th>31281</th>\n",
       "      <td>22</td>\n",
       "      <td>7</td>\n",
       "      <td>2020</td>\n",
       "      <td>-110</td>\n",
       "      <td>0</td>\n",
       "      <td>Jordan</td>\n",
       "      <td>JOR</td>\n",
       "      <td>10101697</td>\n",
       "      <td>Asia</td>\n",
       "      <td>-0.554362</td>\n",
       "    </tr>\n",
       "    <tr>\n",
       "      <th>39028</th>\n",
       "      <td>28</td>\n",
       "      <td>8</td>\n",
       "      <td>2020</td>\n",
       "      <td>-1385</td>\n",
       "      <td>0</td>\n",
       "      <td>Luxembourg</td>\n",
       "      <td>LUX</td>\n",
       "      <td>613894</td>\n",
       "      <td>Europe</td>\n",
       "      <td>-134.388021</td>\n",
       "    </tr>\n",
       "    <tr>\n",
       "      <th>41059</th>\n",
       "      <td>7</td>\n",
       "      <td>9</td>\n",
       "      <td>2020</td>\n",
       "      <td>-8261</td>\n",
       "      <td>3800</td>\n",
       "      <td>Ecuador</td>\n",
       "      <td>ECU</td>\n",
       "      <td>17373657</td>\n",
       "      <td>America</td>\n",
       "      <td>11.598019</td>\n",
       "    </tr>\n",
       "    <tr>\n",
       "      <th>41939</th>\n",
       "      <td>11</td>\n",
       "      <td>9</td>\n",
       "      <td>2020</td>\n",
       "      <td>-6</td>\n",
       "      <td>0</td>\n",
       "      <td>Jersey</td>\n",
       "      <td>JEY</td>\n",
       "      <td>107796</td>\n",
       "      <td>Europe</td>\n",
       "      <td>6.493747</td>\n",
       "    </tr>\n",
       "  </tbody>\n",
       "</table>\n",
       "</div>"
      ],
      "text/plain": [
       "       Date.Day  Date.Month  Date.Year  Data.Cases  Data.Deaths  \\\n",
       "11768        19           4       2020        -713          410   \n",
       "13758        29           4       2020        -105            3   \n",
       "14625         3           5       2020        -161           16   \n",
       "15361         7           5       2020       -2461           49   \n",
       "15777         9           5       2020       -1480           50   \n",
       "16298        11           5       2020          -9            0   \n",
       "16401        12           5       2020         -50           18   \n",
       "18033        20           5       2020        -209            0   \n",
       "18416        21           5       2020        -115            0   \n",
       "20924         2           6       2020          -1            0   \n",
       "21008         3           6       2020        -766          107   \n",
       "24589        20           6       2020        -148           47   \n",
       "31281        22           7       2020        -110            0   \n",
       "39028        28           8       2020       -1385            0   \n",
       "41059         7           9       2020       -8261         3800   \n",
       "41939        11           9       2020          -6            0   \n",
       "\n",
       "      Location.Country Location.Code  Data.Population Location.Continent  \\\n",
       "11768            Spain           ESP         46937060             Europe   \n",
       "13758        Lithuania           LTU          2794184             Europe   \n",
       "14625         Portugal           PRT         10276617             Europe   \n",
       "15361          Ecuador           ECU         17373657            America   \n",
       "15777          Ecuador           ECU         17373657            America   \n",
       "16298       San_Marino           SMR            34453             Europe   \n",
       "16401          Ecuador           ECU         17373657            America   \n",
       "18033            Benin           BEN         11801151             Africa   \n",
       "18416           Uganda           UGA         44269587             Africa   \n",
       "20924           Uganda           UGA         44269587             Africa   \n",
       "21008           France           FRA         67012883             Europe   \n",
       "24589            Italy           ITA         60359546             Europe   \n",
       "31281           Jordan           JOR         10101697               Asia   \n",
       "39028       Luxembourg           LUX           613894             Europe   \n",
       "41059          Ecuador           ECU         17373657            America   \n",
       "41939           Jersey           JEY           107796             Europe   \n",
       "\n",
       "        Data.Rate  \n",
       "11768  116.157680  \n",
       "13758    9.806083  \n",
       "14625   53.568212  \n",
       "15361  106.885960  \n",
       "15777  101.504249  \n",
       "16298  261.225438  \n",
       "16401   36.083365  \n",
       "18033    0.288107  \n",
       "18416    0.106168  \n",
       "20924    0.445001  \n",
       "21008   11.785793  \n",
       "24589    5.765451  \n",
       "31281   -0.554362  \n",
       "39028 -134.388021  \n",
       "41059   11.598019  \n",
       "41939    6.493747  "
      ]
     },
     "execution_count": 7,
     "metadata": {},
     "output_type": "execute_result"
    }
   ],
   "source": [
    "df[df['Data.Cases']<0]"
   ]
  },
  {
   "cell_type": "code",
   "execution_count": 8,
   "id": "824e820c",
   "metadata": {},
   "outputs": [],
   "source": [
    "df.drop(df[df['Data.Cases']<0].index, inplace=True)"
   ]
  },
  {
   "cell_type": "markdown",
   "id": "02cdcada",
   "metadata": {},
   "source": [
    "The dataset contains much information about the pandemic. In the pre-processing of the data, I found both the mode and median number of this dataset are 0, which indicates there are predominantly 0 in the dataset. This is because the dataset records the information about the pandemic from the beginning of 2019, while the pandemic began from the begining of 2020 and developed into a global pandemic several months after. Therefore, I narrowed my time and space scope and focused on the Covid-19 circumstance in France in September, 2020. "
   ]
  },
  {
   "cell_type": "code",
   "execution_count": 93,
   "id": "0e241956",
   "metadata": {},
   "outputs": [],
   "source": [
    "y_2020 = df[df['Date.Year']==2020]"
   ]
  },
  {
   "cell_type": "code",
   "execution_count": 28,
   "id": "0380b37c",
   "metadata": {},
   "outputs": [],
   "source": [
    "m_9 = y_2020[y_2020['Date.Month']==9]"
   ]
  },
  {
   "cell_type": "code",
   "execution_count": 29,
   "id": "9fdafb89",
   "metadata": {},
   "outputs": [],
   "source": [
    "France = m_9[m_9['Location.Country']=='France'].sort_values(by=\"Data.Cases\", ignore_index=True).copy()"
   ]
  },
  {
   "cell_type": "code",
   "execution_count": 30,
   "id": "29a186c5",
   "metadata": {},
   "outputs": [
    {
     "data": {
      "text/plain": [
       "0      3082\n",
       "1      4070\n",
       "2      4203\n",
       "3      4298\n",
       "4      4982\n",
       "5      6158\n",
       "6      6544\n",
       "7      7017\n",
       "8      7071\n",
       "9      7157\n",
       "10     7183\n",
       "11     7852\n",
       "12     8051\n",
       "13     8550\n",
       "14     8577\n",
       "15     8975\n",
       "16     9406\n",
       "17     9784\n",
       "18     9843\n",
       "19    10008\n",
       "20    10561\n",
       "21    10593\n",
       "22    11123\n",
       "23    11569\n",
       "24    13072\n",
       "25    13215\n",
       "26    13498\n",
       "27    14412\n",
       "28    15797\n",
       "29    16096\n",
       "Name: Data.Cases, dtype: int64"
      ]
     },
     "execution_count": 30,
     "metadata": {},
     "output_type": "execute_result"
    }
   ],
   "source": [
    "France['Data.Cases']"
   ]
  },
  {
   "cell_type": "code",
   "execution_count": 31,
   "id": "fd1dfc22",
   "metadata": {},
   "outputs": [
    {
     "data": {
      "text/plain": [
       "9091.566666666668"
      ]
     },
     "execution_count": 31,
     "metadata": {},
     "output_type": "execute_result"
    }
   ],
   "source": [
    "COL1 = France['Data.Cases']\n",
    "COL1.mean()"
   ]
  },
  {
   "cell_type": "code",
   "execution_count": 32,
   "id": "93efe2e6",
   "metadata": {},
   "outputs": [
    {
     "data": {
      "text/plain": [
       "8776.0"
      ]
     },
     "execution_count": 32,
     "metadata": {},
     "output_type": "execute_result"
    }
   ],
   "source": [
    "COL1.median()"
   ]
  },
  {
   "cell_type": "code",
   "execution_count": 33,
   "id": "db857145",
   "metadata": {},
   "outputs": [
    {
     "data": {
      "text/plain": [
       "0      3082\n",
       "1      4070\n",
       "2      4203\n",
       "3      4298\n",
       "4      4982\n",
       "5      6158\n",
       "6      6544\n",
       "7      7017\n",
       "8      7071\n",
       "9      7157\n",
       "10     7183\n",
       "11     7852\n",
       "12     8051\n",
       "13     8550\n",
       "14     8577\n",
       "15     8975\n",
       "16     9406\n",
       "17     9784\n",
       "18     9843\n",
       "19    10008\n",
       "20    10561\n",
       "21    10593\n",
       "22    11123\n",
       "23    11569\n",
       "24    13072\n",
       "25    13215\n",
       "26    13498\n",
       "27    14412\n",
       "28    15797\n",
       "29    16096\n",
       "Name: Data.Cases, dtype: int64"
      ]
     },
     "execution_count": 33,
     "metadata": {},
     "output_type": "execute_result"
    }
   ],
   "source": [
    "COL1.mode()"
   ]
  },
  {
   "cell_type": "code",
   "execution_count": 35,
   "id": "d11b6ea1",
   "metadata": {},
   "outputs": [
    {
     "data": {
      "text/plain": [
       "9179.96"
      ]
     },
     "execution_count": 35,
     "metadata": {},
     "output_type": "execute_result"
    }
   ],
   "source": [
    "COL1.loc[int(0.1*30):int(0.9*30)].mean()"
   ]
  },
  {
   "cell_type": "code",
   "execution_count": 94,
   "id": "3c8eeea3",
   "metadata": {},
   "outputs": [
    {
     "data": {
      "text/plain": [
       "7030.5"
      ]
     },
     "execution_count": 94,
     "metadata": {},
     "output_type": "execute_result"
    }
   ],
   "source": [
    "COL1.quantile(0.25)"
   ]
  },
  {
   "cell_type": "code",
   "execution_count": 95,
   "id": "6b93c813",
   "metadata": {},
   "outputs": [
    {
     "data": {
      "text/plain": [
       "10990.5"
      ]
     },
     "execution_count": 95,
     "metadata": {},
     "output_type": "execute_result"
    }
   ],
   "source": [
    "COL1.quantile(0.75)"
   ]
  },
  {
   "cell_type": "markdown",
   "id": "356022c5",
   "metadata": {},
   "source": [
    "The trimmed mean is calculated with a narrowed scope of data, namely with the 10% values at the beginning and the end of the sorted column dropped. "
   ]
  },
  {
   "cell_type": "code",
   "execution_count": 108,
   "id": "fe180d7f",
   "metadata": {},
   "outputs": [
    {
     "data": {
      "text/plain": [
       "Text(11000, 3.5, '75% quantile:10990.5')"
      ]
     },
     "execution_count": 108,
     "metadata": {},
     "output_type": "execute_result"
    },
    {
     "data": {
      "image/png": "[encoded data removed]",
      "text/plain": [
       "<Figure size 432x288 with 1 Axes>"
      ]
     },
     "metadata": {
      "needs_background": "light"
     },
     "output_type": "display_data"
    }
   ],
   "source": [
    "fig,ax = plt.subplots()\n",
    "COL1.plot(kind='hist')\n",
    "plt.annotate('Mean:9092', xy=(9091.6, 4.2), xytext=(8700, 5.1),\n",
    "            weight='bold', color='red',fontsize=8,\n",
    "            arrowprops=dict(arrowstyle='->',\n",
    "                            connectionstyle=\"arc3\",\n",
    "                            color='red'))\n",
    "plt.annotate('Median:8776', xy=(8776.0, 4.2), xytext=(8000, 5.5),\n",
    "            weight='bold', color='blue',fontsize=8,\n",
    "            arrowprops=dict(arrowstyle='->',\n",
    "                            connectionstyle=\"arc3\",\n",
    "                            color='blue'))\n",
    "plt.annotate('25% quantile:7030.5', xy=(7030.5, 6), xytext=(3000, 5.5),\n",
    "            weight='bold', color='blue',fontsize=8,\n",
    "            arrowprops=dict(arrowstyle='->',\n",
    "                            connectionstyle=\"arc3\",\n",
    "                            color='blue'))\n",
    "plt.annotate('75% quantile:10990.5', xy=(10990.5, 2.05), xytext=(11000, 3.5),\n",
    "            weight='bold', color='blue',fontsize=8,\n",
    "            arrowprops=dict(arrowstyle='->',\n",
    "                            connectionstyle=\"arc3\",\n",
    "                            color='blue'))"
   ]
  },
  {
   "cell_type": "markdown",
   "id": "5c427f20",
   "metadata": {},
   "source": [
    "As shown in the graph, the median value of this column is on the left side of its mean value, and because all values in the column are mode values, the mode values of this column aren't significant and thus shouldn't be displayed on the graph. The trimmed mean value is on the right side of the mean value. It shows the first 10% of values are more intensive than the last 10% values."
   ]
  },
  {
   "cell_type": "code",
   "execution_count": 44,
   "id": "ab6115e1",
   "metadata": {},
   "outputs": [
    {
     "data": {
      "text/plain": [
       "2779.6711111111113"
      ]
     },
     "execution_count": 44,
     "metadata": {},
     "output_type": "execute_result"
    }
   ],
   "source": [
    "COL1.mad()"
   ]
  },
  {
   "cell_type": "code",
   "execution_count": 43,
   "id": "7d7efac3",
   "metadata": {},
   "outputs": [
    {
     "data": {
      "text/plain": [
       "3476.0778599602377"
      ]
     },
     "execution_count": 43,
     "metadata": {},
     "output_type": "execute_result"
    }
   ],
   "source": [
    "COL1.std()"
   ]
  },
  {
   "cell_type": "code",
   "execution_count": 45,
   "id": "e78977fa",
   "metadata": {},
   "outputs": [
    {
     "data": {
      "text/plain": [
       "3960.0"
      ]
     },
     "execution_count": 45,
     "metadata": {},
     "output_type": "execute_result"
    }
   ],
   "source": [
    "COL1.quantile(0.75)-COL1.quantile(0.25)"
   ]
  },
  {
   "cell_type": "markdown",
   "id": "40a410bf",
   "metadata": {},
   "source": [
    "The mean absolute deviation is the smallest among these three values, and the interquartile value the largest.\n",
    "These three values all describe the level of intensiveness of the data. The first value reflect the mean difference of all values from the mean value is 2779.7, and the second value implies the square root of the variance of these values is 3476.1. Though the graph doesn't directly represent these two values, we can thus sense the distributing pattern of these values. The interquartile value shows the difference of 75% and 25% quantile,  which can be displayed on the graph. "
   ]
  },
  {
   "cell_type": "code",
   "execution_count": 46,
   "id": "79b8d9c4",
   "metadata": {},
   "outputs": [
    {
     "data": {
      "text/plain": [
       "<AxesSubplot:>"
      ]
     },
     "execution_count": 46,
     "metadata": {},
     "output_type": "execute_result"
    },
    {
     "data": {
      "image/png": "[encoded data removed]",
      "text/plain": [
       "<Figure size 432x288 with 1 Axes>"
      ]
     },
     "metadata": {
      "needs_background": "light"
     },
     "output_type": "display_data"
    }
   ],
   "source": [
    "COL1.plot(kind='box')"
   ]
  },
  {
   "cell_type": "markdown",
   "id": "e5e8eacb",
   "metadata": {},
   "source": [
    "As shown in the boxplot, the calculated median is represented in the middle of the box by a green line, and the two quantile values(25% quantile and 75% quantile) are separately the bottom and the top line of the box."
   ]
  },
  {
   "cell_type": "code",
   "execution_count": 60,
   "id": "50043b22",
   "metadata": {},
   "outputs": [],
   "source": [
    "for i in range(30):\n",
    "    if COL1.iloc[i] < 0.5*COL1.mean():\n",
    "        France.loc[i,'COL1_mean_split']= 0\n",
    "    elif 0.5*COL1.mean() <= COL1.iloc[i] < COL1.mean():\n",
    "        France.loc[i,'COL1_mean_split']= 1\n",
    "    else:\n",
    "        France.loc[i,'COL1_mean_split']= 2\n",
    "France['COL1_mean_split'] = France['COL1_mean_split'].astype(int)"
   ]
  },
  {
   "cell_type": "code",
   "execution_count": 61,
   "id": "6ed81d81",
   "metadata": {},
   "outputs": [
    {
     "data": {
      "text/plain": [
       "<AxesSubplot:xlabel='COL1_mean_split'>"
      ]
     },
     "execution_count": 61,
     "metadata": {},
     "output_type": "execute_result"
    },
    {
     "data": {
      "image/png": "[encoded data removed]",
      "text/plain": [
       "<Figure size 432x288 with 1 Axes>"
      ]
     },
     "metadata": {
      "needs_background": "light"
     },
     "output_type": "display_data"
    }
   ],
   "source": [
    "France.groupby('COL1_mean_split')['Data.Deaths'].count().plot(kind='bar')"
   ]
  },
  {
   "cell_type": "code",
   "execution_count": 64,
   "id": "0e32d624",
   "metadata": {},
   "outputs": [
    {
     "data": {
      "text/plain": [
       "<AxesSubplot:title={'center':'Data.Deaths'}, xlabel='COL1_mean_split'>"
      ]
     },
     "execution_count": 64,
     "metadata": {},
     "output_type": "execute_result"
    },
    {
     "data": {
      "image/png": "[encoded data removed]",
      "text/plain": [
       "<Figure size 432x288 with 1 Axes>"
      ]
     },
     "metadata": {
      "needs_background": "light"
     },
     "output_type": "display_data"
    }
   ],
   "source": [
    "France.boxplot(column=['Data.Deaths'], by='COL1_mean_split')"
   ]
  },
  {
   "cell_type": "code",
   "execution_count": 65,
   "id": "7b43a286",
   "metadata": {},
   "outputs": [],
   "source": [
    "COL3 = France['Data.Cases']"
   ]
  },
  {
   "cell_type": "code",
   "execution_count": 70,
   "id": "0cbf1d35",
   "metadata": {},
   "outputs": [
    {
     "data": {
      "text/html": [
       "<div>\n",
       "<style scoped>\n",
       "    .dataframe tbody tr th:only-of-type {\n",
       "        vertical-align: middle;\n",
       "    }\n",
       "\n",
       "    .dataframe tbody tr th {\n",
       "        vertical-align: top;\n",
       "    }\n",
       "\n",
       "    .dataframe thead th {\n",
       "        text-align: right;\n",
       "    }\n",
       "</style>\n",
       "<table border=\"1\" class=\"dataframe\">\n",
       "  <thead>\n",
       "    <tr style=\"text-align: right;\">\n",
       "      <th></th>\n",
       "      <th>Data.Cases</th>\n",
       "      <th>Data.Deaths</th>\n",
       "    </tr>\n",
       "  </thead>\n",
       "  <tbody>\n",
       "    <tr>\n",
       "      <th>Data.Cases</th>\n",
       "      <td>1.000000</td>\n",
       "      <td>0.344461</td>\n",
       "    </tr>\n",
       "    <tr>\n",
       "      <th>Data.Deaths</th>\n",
       "      <td>0.344461</td>\n",
       "      <td>1.000000</td>\n",
       "    </tr>\n",
       "  </tbody>\n",
       "</table>\n",
       "</div>"
      ],
      "text/plain": [
       "             Data.Cases  Data.Deaths\n",
       "Data.Cases     1.000000     0.344461\n",
       "Data.Deaths    0.344461     1.000000"
      ]
     },
     "execution_count": 70,
     "metadata": {},
     "output_type": "execute_result"
    }
   ],
   "source": [
    "France[['Data.Cases','Data.Deaths']].corr()"
   ]
  },
  {
   "cell_type": "code",
   "execution_count": 71,
   "id": "55b2ac17",
   "metadata": {},
   "outputs": [
    {
     "data": {
      "text/plain": [
       "<AxesSubplot:xlabel='Data.Cases', ylabel='Data.Deaths'>"
      ]
     },
     "execution_count": 71,
     "metadata": {},
     "output_type": "execute_result"
    },
    {
     "data": {
      "image/png": "[encoded data removed]",
      "text/plain": [
       "<Figure size 432x288 with 1 Axes>"
      ]
     },
     "metadata": {
      "needs_background": "light"
     },
     "output_type": "display_data"
    }
   ],
   "source": [
    "France.plot(kind='scatter',\n",
    "        x='Data.Cases',\n",
    "        y='Data.Deaths')"
   ]
  },
  {
   "cell_type": "markdown",
   "id": "42936c63",
   "metadata": {},
   "source": [
    "The scatter plot shows there are little correlation between these two columns, which corresponds to the calculated correlation value (The closer the correlation value is to 0, the less strongly the two values are correlated)"
   ]
  },
  {
   "cell_type": "code",
   "execution_count": 72,
   "id": "01fc9cce",
   "metadata": {},
   "outputs": [
    {
     "data": {
      "text/plain": [
       "<AxesSubplot:xlabel='Data.Cases', ylabel='Data.Deaths'>"
      ]
     },
     "execution_count": 72,
     "metadata": {},
     "output_type": "execute_result"
    },
    {
     "data": {
      "image/png": "[encoded data removed]",
      "text/plain": [
       "<Figure size 432x288 with 2 Axes>"
      ]
     },
     "metadata": {
      "needs_background": "light"
     },
     "output_type": "display_data"
    }
   ],
   "source": [
    "France.plot(kind='hexbin', cmap='gist_stern_r',\n",
    "        x='Data.Cases',\n",
    "        y='Data.Deaths')"
   ]
  },
  {
   "cell_type": "code",
   "execution_count": 121,
   "id": "77135a93",
   "metadata": {},
   "outputs": [
    {
     "data": {
      "image/png": "[encoded data removed]",
      "text/plain": [
       "<Figure size 648x216 with 3 Axes>"
      ]
     },
     "metadata": {
      "needs_background": "light"
     },
     "output_type": "display_data"
    }
   ],
   "source": [
    "g = sns.FacetGrid(France, col=\"COL1_mean_split\")\n",
    "g = g.map(plt.hexbin, \"Data.Deaths\",\"Data.Cases\")"
   ]
  },
  {
   "cell_type": "markdown",
   "id": "7954c710",
   "metadata": {},
   "source": [
    "A hexagonal binning plot of COL1 and COL3 grouped into different facet. But I'm confused why this hexbin looks so different from the one shown above. I tried plotting a scatter plot with seaborn, and I got the below graph."
   ]
  },
  {
   "cell_type": "code",
   "execution_count": 122,
   "id": "52fe3ced",
   "metadata": {},
   "outputs": [
    {
     "data": {
      "image/png": "[encoded data removed]",
      "text/plain": [
       "<Figure size 648x216 with 3 Axes>"
      ]
     },
     "metadata": {
      "needs_background": "light"
     },
     "output_type": "display_data"
    }
   ],
   "source": [
    "g = sns.FacetGrid(France, col=\"COL1_mean_split\")\n",
    "g = g.map(plt.scatter, \"Data.Deaths\",\"Data.Cases\")"
   ]
  },
  {
   "cell_type": "markdown",
   "id": "b104159a",
   "metadata": {},
   "source": [
    "This looks normal. But I'm still puzzled about which step was I wrong in producing the hexagonal binning plot."
   ]
  },
  {
   "cell_type": "code",
   "execution_count": null,
   "id": "35d484ce",
   "metadata": {},
   "outputs": [],
   "source": []
  }
 ],
 "metadata": {
  "kernelspec": {
   "display_name": "Python 3 (ipykernel)",
   "language": "python",
   "name": "python3"
  },
  "language_info": {
   "codemirror_mode": {
    "name": "ipython",
    "version": 3
   },
   "file_extension": ".py",
   "mimetype": "text/x-python",
   "name": "python",
   "nbconvert_exporter": "python",
   "pygments_lexer": "ipython3",
   "version": "3.9.12"
  }
 },
 "nbformat": 4,
 "nbformat_minor": 5
}
